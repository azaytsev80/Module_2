{
 "cells": [
  {
   "cell_type": "markdown",
   "metadata": {},
   "source": [
    "# Проект 2. Разведовательный анализ данных. Суть — отследить влияние условий жизни учащихся в возрасте от 15 до 22 лет на их успеваемость по математике, чтобы на ранней стадии выявлять студентов, находящихся в группе риска."
   ]
  },
  {
   "cell_type": "markdown",
   "metadata": {},
   "source": [
    "#### Загружаем данные о студентах"
   ]
  },
  {
   "cell_type": "code",
   "execution_count": 350,
   "metadata": {
    "scrolled": false
   },
   "outputs": [
    {
     "data": {
      "text/html": [
       "<div>\n",
       "<style scoped>\n",
       "    .dataframe tbody tr th:only-of-type {\n",
       "        vertical-align: middle;\n",
       "    }\n",
       "\n",
       "    .dataframe tbody tr th {\n",
       "        vertical-align: top;\n",
       "    }\n",
       "\n",
       "    .dataframe thead th {\n",
       "        text-align: right;\n",
       "    }\n",
       "</style>\n",
       "<table border=\"1\" class=\"dataframe\">\n",
       "  <thead>\n",
       "    <tr style=\"text-align: right;\">\n",
       "      <th></th>\n",
       "      <th>school</th>\n",
       "      <th>sex</th>\n",
       "      <th>age</th>\n",
       "      <th>address</th>\n",
       "      <th>famsize</th>\n",
       "      <th>pstatus</th>\n",
       "      <th>medu</th>\n",
       "      <th>fedu</th>\n",
       "      <th>mjob</th>\n",
       "      <th>fjob</th>\n",
       "      <th>reason</th>\n",
       "      <th>guardian</th>\n",
       "      <th>traveltime</th>\n",
       "      <th>studytime</th>\n",
       "      <th>failures</th>\n",
       "      <th>schoolsup</th>\n",
       "      <th>famsup</th>\n",
       "      <th>paid</th>\n",
       "      <th>activities</th>\n",
       "      <th>nursery</th>\n",
       "      <th>studytime_granular</th>\n",
       "      <th>higher</th>\n",
       "      <th>internet</th>\n",
       "      <th>romantic</th>\n",
       "      <th>famrel</th>\n",
       "      <th>freetime</th>\n",
       "      <th>goout</th>\n",
       "      <th>health</th>\n",
       "      <th>absences</th>\n",
       "      <th>score</th>\n",
       "    </tr>\n",
       "  </thead>\n",
       "  <tbody>\n",
       "    <tr>\n",
       "      <th>0</th>\n",
       "      <td>GP</td>\n",
       "      <td>F</td>\n",
       "      <td>18</td>\n",
       "      <td>U</td>\n",
       "      <td>NaN</td>\n",
       "      <td>A</td>\n",
       "      <td>4.0</td>\n",
       "      <td>4.0</td>\n",
       "      <td>at_home</td>\n",
       "      <td>teacher</td>\n",
       "      <td>course</td>\n",
       "      <td>mother</td>\n",
       "      <td>2.0</td>\n",
       "      <td>2.0</td>\n",
       "      <td>0.0</td>\n",
       "      <td>yes</td>\n",
       "      <td>no</td>\n",
       "      <td>no</td>\n",
       "      <td>no</td>\n",
       "      <td>yes</td>\n",
       "      <td>-6.0</td>\n",
       "      <td>yes</td>\n",
       "      <td>NaN</td>\n",
       "      <td>no</td>\n",
       "      <td>4.0</td>\n",
       "      <td>3.0</td>\n",
       "      <td>4.0</td>\n",
       "      <td>3.0</td>\n",
       "      <td>6.0</td>\n",
       "      <td>30.0</td>\n",
       "    </tr>\n",
       "    <tr>\n",
       "      <th>1</th>\n",
       "      <td>GP</td>\n",
       "      <td>F</td>\n",
       "      <td>17</td>\n",
       "      <td>U</td>\n",
       "      <td>GT3</td>\n",
       "      <td>NaN</td>\n",
       "      <td>1.0</td>\n",
       "      <td>1.0</td>\n",
       "      <td>at_home</td>\n",
       "      <td>other</td>\n",
       "      <td>course</td>\n",
       "      <td>father</td>\n",
       "      <td>1.0</td>\n",
       "      <td>2.0</td>\n",
       "      <td>0.0</td>\n",
       "      <td>no</td>\n",
       "      <td>yes</td>\n",
       "      <td>no</td>\n",
       "      <td>no</td>\n",
       "      <td>no</td>\n",
       "      <td>-6.0</td>\n",
       "      <td>yes</td>\n",
       "      <td>yes</td>\n",
       "      <td>no</td>\n",
       "      <td>5.0</td>\n",
       "      <td>3.0</td>\n",
       "      <td>3.0</td>\n",
       "      <td>3.0</td>\n",
       "      <td>4.0</td>\n",
       "      <td>30.0</td>\n",
       "    </tr>\n",
       "    <tr>\n",
       "      <th>2</th>\n",
       "      <td>GP</td>\n",
       "      <td>F</td>\n",
       "      <td>15</td>\n",
       "      <td>U</td>\n",
       "      <td>LE3</td>\n",
       "      <td>T</td>\n",
       "      <td>1.0</td>\n",
       "      <td>1.0</td>\n",
       "      <td>at_home</td>\n",
       "      <td>other</td>\n",
       "      <td>other</td>\n",
       "      <td>mother</td>\n",
       "      <td>1.0</td>\n",
       "      <td>2.0</td>\n",
       "      <td>3.0</td>\n",
       "      <td>yes</td>\n",
       "      <td>no</td>\n",
       "      <td>NaN</td>\n",
       "      <td>no</td>\n",
       "      <td>yes</td>\n",
       "      <td>-6.0</td>\n",
       "      <td>yes</td>\n",
       "      <td>yes</td>\n",
       "      <td>NaN</td>\n",
       "      <td>4.0</td>\n",
       "      <td>3.0</td>\n",
       "      <td>2.0</td>\n",
       "      <td>3.0</td>\n",
       "      <td>10.0</td>\n",
       "      <td>50.0</td>\n",
       "    </tr>\n",
       "    <tr>\n",
       "      <th>3</th>\n",
       "      <td>GP</td>\n",
       "      <td>F</td>\n",
       "      <td>15</td>\n",
       "      <td>U</td>\n",
       "      <td>GT3</td>\n",
       "      <td>T</td>\n",
       "      <td>4.0</td>\n",
       "      <td>2.0</td>\n",
       "      <td>health</td>\n",
       "      <td>NaN</td>\n",
       "      <td>home</td>\n",
       "      <td>mother</td>\n",
       "      <td>1.0</td>\n",
       "      <td>3.0</td>\n",
       "      <td>0.0</td>\n",
       "      <td>no</td>\n",
       "      <td>yes</td>\n",
       "      <td>yes</td>\n",
       "      <td>yes</td>\n",
       "      <td>yes</td>\n",
       "      <td>-9.0</td>\n",
       "      <td>yes</td>\n",
       "      <td>yes</td>\n",
       "      <td>yes</td>\n",
       "      <td>3.0</td>\n",
       "      <td>2.0</td>\n",
       "      <td>2.0</td>\n",
       "      <td>5.0</td>\n",
       "      <td>2.0</td>\n",
       "      <td>75.0</td>\n",
       "    </tr>\n",
       "    <tr>\n",
       "      <th>4</th>\n",
       "      <td>GP</td>\n",
       "      <td>F</td>\n",
       "      <td>16</td>\n",
       "      <td>U</td>\n",
       "      <td>GT3</td>\n",
       "      <td>T</td>\n",
       "      <td>3.0</td>\n",
       "      <td>3.0</td>\n",
       "      <td>other</td>\n",
       "      <td>other</td>\n",
       "      <td>home</td>\n",
       "      <td>father</td>\n",
       "      <td>1.0</td>\n",
       "      <td>2.0</td>\n",
       "      <td>0.0</td>\n",
       "      <td>no</td>\n",
       "      <td>yes</td>\n",
       "      <td>yes</td>\n",
       "      <td>no</td>\n",
       "      <td>yes</td>\n",
       "      <td>-6.0</td>\n",
       "      <td>yes</td>\n",
       "      <td>no</td>\n",
       "      <td>no</td>\n",
       "      <td>4.0</td>\n",
       "      <td>3.0</td>\n",
       "      <td>2.0</td>\n",
       "      <td>5.0</td>\n",
       "      <td>4.0</td>\n",
       "      <td>50.0</td>\n",
       "    </tr>\n",
       "    <tr>\n",
       "      <th>5</th>\n",
       "      <td>GP</td>\n",
       "      <td>M</td>\n",
       "      <td>16</td>\n",
       "      <td>U</td>\n",
       "      <td>LE3</td>\n",
       "      <td>T</td>\n",
       "      <td>4.0</td>\n",
       "      <td>3.0</td>\n",
       "      <td>services</td>\n",
       "      <td>other</td>\n",
       "      <td>reputation</td>\n",
       "      <td>mother</td>\n",
       "      <td>1.0</td>\n",
       "      <td>2.0</td>\n",
       "      <td>0.0</td>\n",
       "      <td>no</td>\n",
       "      <td>yes</td>\n",
       "      <td>yes</td>\n",
       "      <td>yes</td>\n",
       "      <td>yes</td>\n",
       "      <td>-6.0</td>\n",
       "      <td>yes</td>\n",
       "      <td>yes</td>\n",
       "      <td>no</td>\n",
       "      <td>5.0</td>\n",
       "      <td>4.0</td>\n",
       "      <td>2.0</td>\n",
       "      <td>5.0</td>\n",
       "      <td>10.0</td>\n",
       "      <td>75.0</td>\n",
       "    </tr>\n",
       "    <tr>\n",
       "      <th>6</th>\n",
       "      <td>GP</td>\n",
       "      <td>M</td>\n",
       "      <td>16</td>\n",
       "      <td>NaN</td>\n",
       "      <td>LE3</td>\n",
       "      <td>T</td>\n",
       "      <td>2.0</td>\n",
       "      <td>2.0</td>\n",
       "      <td>other</td>\n",
       "      <td>other</td>\n",
       "      <td>home</td>\n",
       "      <td>mother</td>\n",
       "      <td>1.0</td>\n",
       "      <td>2.0</td>\n",
       "      <td>0.0</td>\n",
       "      <td>no</td>\n",
       "      <td>no</td>\n",
       "      <td>no</td>\n",
       "      <td>no</td>\n",
       "      <td>yes</td>\n",
       "      <td>-6.0</td>\n",
       "      <td>yes</td>\n",
       "      <td>yes</td>\n",
       "      <td>no</td>\n",
       "      <td>4.0</td>\n",
       "      <td>4.0</td>\n",
       "      <td>4.0</td>\n",
       "      <td>3.0</td>\n",
       "      <td>0.0</td>\n",
       "      <td>55.0</td>\n",
       "    </tr>\n",
       "    <tr>\n",
       "      <th>7</th>\n",
       "      <td>GP</td>\n",
       "      <td>F</td>\n",
       "      <td>17</td>\n",
       "      <td>U</td>\n",
       "      <td>GT3</td>\n",
       "      <td>A</td>\n",
       "      <td>4.0</td>\n",
       "      <td>4.0</td>\n",
       "      <td>other</td>\n",
       "      <td>teacher</td>\n",
       "      <td>home</td>\n",
       "      <td>mother</td>\n",
       "      <td>2.0</td>\n",
       "      <td>2.0</td>\n",
       "      <td>0.0</td>\n",
       "      <td>yes</td>\n",
       "      <td>yes</td>\n",
       "      <td>no</td>\n",
       "      <td>no</td>\n",
       "      <td>yes</td>\n",
       "      <td>-6.0</td>\n",
       "      <td>yes</td>\n",
       "      <td>no</td>\n",
       "      <td>no</td>\n",
       "      <td>4.0</td>\n",
       "      <td>1.0</td>\n",
       "      <td>4.0</td>\n",
       "      <td>1.0</td>\n",
       "      <td>6.0</td>\n",
       "      <td>30.0</td>\n",
       "    </tr>\n",
       "    <tr>\n",
       "      <th>8</th>\n",
       "      <td>GP</td>\n",
       "      <td>M</td>\n",
       "      <td>15</td>\n",
       "      <td>U</td>\n",
       "      <td>LE3</td>\n",
       "      <td>A</td>\n",
       "      <td>3.0</td>\n",
       "      <td>2.0</td>\n",
       "      <td>services</td>\n",
       "      <td>other</td>\n",
       "      <td>home</td>\n",
       "      <td>mother</td>\n",
       "      <td>1.0</td>\n",
       "      <td>2.0</td>\n",
       "      <td>0.0</td>\n",
       "      <td>no</td>\n",
       "      <td>yes</td>\n",
       "      <td>yes</td>\n",
       "      <td>no</td>\n",
       "      <td>yes</td>\n",
       "      <td>-6.0</td>\n",
       "      <td>yes</td>\n",
       "      <td>yes</td>\n",
       "      <td>no</td>\n",
       "      <td>NaN</td>\n",
       "      <td>2.0</td>\n",
       "      <td>2.0</td>\n",
       "      <td>1.0</td>\n",
       "      <td>0.0</td>\n",
       "      <td>95.0</td>\n",
       "    </tr>\n",
       "    <tr>\n",
       "      <th>9</th>\n",
       "      <td>GP</td>\n",
       "      <td>M</td>\n",
       "      <td>15</td>\n",
       "      <td>U</td>\n",
       "      <td>NaN</td>\n",
       "      <td>NaN</td>\n",
       "      <td>3.0</td>\n",
       "      <td>4.0</td>\n",
       "      <td>other</td>\n",
       "      <td>other</td>\n",
       "      <td>home</td>\n",
       "      <td>mother</td>\n",
       "      <td>1.0</td>\n",
       "      <td>2.0</td>\n",
       "      <td>0.0</td>\n",
       "      <td>no</td>\n",
       "      <td>yes</td>\n",
       "      <td>yes</td>\n",
       "      <td>yes</td>\n",
       "      <td>yes</td>\n",
       "      <td>-6.0</td>\n",
       "      <td>yes</td>\n",
       "      <td>yes</td>\n",
       "      <td>no</td>\n",
       "      <td>5.0</td>\n",
       "      <td>5.0</td>\n",
       "      <td>1.0</td>\n",
       "      <td>5.0</td>\n",
       "      <td>0.0</td>\n",
       "      <td>75.0</td>\n",
       "    </tr>\n",
       "    <tr>\n",
       "      <th>10</th>\n",
       "      <td>GP</td>\n",
       "      <td>F</td>\n",
       "      <td>15</td>\n",
       "      <td>U</td>\n",
       "      <td>GT3</td>\n",
       "      <td>T</td>\n",
       "      <td>4.0</td>\n",
       "      <td>4.0</td>\n",
       "      <td>teacher</td>\n",
       "      <td>health</td>\n",
       "      <td>reputation</td>\n",
       "      <td>mother</td>\n",
       "      <td>1.0</td>\n",
       "      <td>2.0</td>\n",
       "      <td>0.0</td>\n",
       "      <td>no</td>\n",
       "      <td>yes</td>\n",
       "      <td>yes</td>\n",
       "      <td>no</td>\n",
       "      <td>yes</td>\n",
       "      <td>-6.0</td>\n",
       "      <td>yes</td>\n",
       "      <td>yes</td>\n",
       "      <td>no</td>\n",
       "      <td>3.0</td>\n",
       "      <td>3.0</td>\n",
       "      <td>3.0</td>\n",
       "      <td>2.0</td>\n",
       "      <td>0.0</td>\n",
       "      <td>45.0</td>\n",
       "    </tr>\n",
       "    <tr>\n",
       "      <th>11</th>\n",
       "      <td>GP</td>\n",
       "      <td>F</td>\n",
       "      <td>15</td>\n",
       "      <td>U</td>\n",
       "      <td>GT3</td>\n",
       "      <td>NaN</td>\n",
       "      <td>2.0</td>\n",
       "      <td>40.0</td>\n",
       "      <td>services</td>\n",
       "      <td>other</td>\n",
       "      <td>reputation</td>\n",
       "      <td>father</td>\n",
       "      <td>3.0</td>\n",
       "      <td>3.0</td>\n",
       "      <td>0.0</td>\n",
       "      <td>no</td>\n",
       "      <td>yes</td>\n",
       "      <td>no</td>\n",
       "      <td>yes</td>\n",
       "      <td>yes</td>\n",
       "      <td>-9.0</td>\n",
       "      <td>yes</td>\n",
       "      <td>yes</td>\n",
       "      <td>no</td>\n",
       "      <td>5.0</td>\n",
       "      <td>2.0</td>\n",
       "      <td>2.0</td>\n",
       "      <td>4.0</td>\n",
       "      <td>4.0</td>\n",
       "      <td>60.0</td>\n",
       "    </tr>\n",
       "    <tr>\n",
       "      <th>12</th>\n",
       "      <td>GP</td>\n",
       "      <td>M</td>\n",
       "      <td>15</td>\n",
       "      <td>U</td>\n",
       "      <td>LE3</td>\n",
       "      <td>T</td>\n",
       "      <td>4.0</td>\n",
       "      <td>4.0</td>\n",
       "      <td>health</td>\n",
       "      <td>services</td>\n",
       "      <td>course</td>\n",
       "      <td>father</td>\n",
       "      <td>1.0</td>\n",
       "      <td>1.0</td>\n",
       "      <td>0.0</td>\n",
       "      <td>no</td>\n",
       "      <td>yes</td>\n",
       "      <td>yes</td>\n",
       "      <td>yes</td>\n",
       "      <td>yes</td>\n",
       "      <td>-3.0</td>\n",
       "      <td>yes</td>\n",
       "      <td>NaN</td>\n",
       "      <td>no</td>\n",
       "      <td>NaN</td>\n",
       "      <td>3.0</td>\n",
       "      <td>3.0</td>\n",
       "      <td>5.0</td>\n",
       "      <td>2.0</td>\n",
       "      <td>70.0</td>\n",
       "    </tr>\n",
       "    <tr>\n",
       "      <th>13</th>\n",
       "      <td>GP</td>\n",
       "      <td>M</td>\n",
       "      <td>15</td>\n",
       "      <td>U</td>\n",
       "      <td>GT3</td>\n",
       "      <td>T</td>\n",
       "      <td>4.0</td>\n",
       "      <td>3.0</td>\n",
       "      <td>teacher</td>\n",
       "      <td>other</td>\n",
       "      <td>course</td>\n",
       "      <td>mother</td>\n",
       "      <td>2.0</td>\n",
       "      <td>2.0</td>\n",
       "      <td>0.0</td>\n",
       "      <td>no</td>\n",
       "      <td>yes</td>\n",
       "      <td>yes</td>\n",
       "      <td>no</td>\n",
       "      <td>yes</td>\n",
       "      <td>-6.0</td>\n",
       "      <td>yes</td>\n",
       "      <td>yes</td>\n",
       "      <td>NaN</td>\n",
       "      <td>5.0</td>\n",
       "      <td>4.0</td>\n",
       "      <td>3.0</td>\n",
       "      <td>3.0</td>\n",
       "      <td>2.0</td>\n",
       "      <td>55.0</td>\n",
       "    </tr>\n",
       "    <tr>\n",
       "      <th>14</th>\n",
       "      <td>GP</td>\n",
       "      <td>M</td>\n",
       "      <td>15</td>\n",
       "      <td>U</td>\n",
       "      <td>GT3</td>\n",
       "      <td>A</td>\n",
       "      <td>2.0</td>\n",
       "      <td>2.0</td>\n",
       "      <td>other</td>\n",
       "      <td>other</td>\n",
       "      <td>home</td>\n",
       "      <td>other</td>\n",
       "      <td>1.0</td>\n",
       "      <td>3.0</td>\n",
       "      <td>0.0</td>\n",
       "      <td>no</td>\n",
       "      <td>yes</td>\n",
       "      <td>no</td>\n",
       "      <td>no</td>\n",
       "      <td>yes</td>\n",
       "      <td>-9.0</td>\n",
       "      <td>yes</td>\n",
       "      <td>yes</td>\n",
       "      <td>yes</td>\n",
       "      <td>4.0</td>\n",
       "      <td>5.0</td>\n",
       "      <td>2.0</td>\n",
       "      <td>3.0</td>\n",
       "      <td>0.0</td>\n",
       "      <td>80.0</td>\n",
       "    </tr>\n",
       "    <tr>\n",
       "      <th>15</th>\n",
       "      <td>GP</td>\n",
       "      <td>F</td>\n",
       "      <td>16</td>\n",
       "      <td>U</td>\n",
       "      <td>GT3</td>\n",
       "      <td>NaN</td>\n",
       "      <td>4.0</td>\n",
       "      <td>4.0</td>\n",
       "      <td>health</td>\n",
       "      <td>other</td>\n",
       "      <td>home</td>\n",
       "      <td>mother</td>\n",
       "      <td>1.0</td>\n",
       "      <td>1.0</td>\n",
       "      <td>0.0</td>\n",
       "      <td>no</td>\n",
       "      <td>yes</td>\n",
       "      <td>no</td>\n",
       "      <td>no</td>\n",
       "      <td>yes</td>\n",
       "      <td>-3.0</td>\n",
       "      <td>yes</td>\n",
       "      <td>yes</td>\n",
       "      <td>no</td>\n",
       "      <td>4.0</td>\n",
       "      <td>4.0</td>\n",
       "      <td>4.0</td>\n",
       "      <td>2.0</td>\n",
       "      <td>4.0</td>\n",
       "      <td>70.0</td>\n",
       "    </tr>\n",
       "    <tr>\n",
       "      <th>16</th>\n",
       "      <td>GP</td>\n",
       "      <td>F</td>\n",
       "      <td>16</td>\n",
       "      <td>U</td>\n",
       "      <td>GT3</td>\n",
       "      <td>T</td>\n",
       "      <td>4.0</td>\n",
       "      <td>4.0</td>\n",
       "      <td>services</td>\n",
       "      <td>services</td>\n",
       "      <td>reputation</td>\n",
       "      <td>mother</td>\n",
       "      <td>1.0</td>\n",
       "      <td>3.0</td>\n",
       "      <td>0.0</td>\n",
       "      <td>no</td>\n",
       "      <td>yes</td>\n",
       "      <td>yes</td>\n",
       "      <td>yes</td>\n",
       "      <td>yes</td>\n",
       "      <td>-9.0</td>\n",
       "      <td>yes</td>\n",
       "      <td>yes</td>\n",
       "      <td>no</td>\n",
       "      <td>3.0</td>\n",
       "      <td>2.0</td>\n",
       "      <td>3.0</td>\n",
       "      <td>2.0</td>\n",
       "      <td>6.0</td>\n",
       "      <td>70.0</td>\n",
       "    </tr>\n",
       "    <tr>\n",
       "      <th>17</th>\n",
       "      <td>GP</td>\n",
       "      <td>F</td>\n",
       "      <td>16</td>\n",
       "      <td>U</td>\n",
       "      <td>GT3</td>\n",
       "      <td>T</td>\n",
       "      <td>3.0</td>\n",
       "      <td>3.0</td>\n",
       "      <td>other</td>\n",
       "      <td>NaN</td>\n",
       "      <td>reputation</td>\n",
       "      <td>mother</td>\n",
       "      <td>3.0</td>\n",
       "      <td>NaN</td>\n",
       "      <td>0.0</td>\n",
       "      <td>yes</td>\n",
       "      <td>NaN</td>\n",
       "      <td>no</td>\n",
       "      <td>yes</td>\n",
       "      <td>yes</td>\n",
       "      <td>NaN</td>\n",
       "      <td>yes</td>\n",
       "      <td>no</td>\n",
       "      <td>no</td>\n",
       "      <td>5.0</td>\n",
       "      <td>3.0</td>\n",
       "      <td>2.0</td>\n",
       "      <td>4.0</td>\n",
       "      <td>4.0</td>\n",
       "      <td>50.0</td>\n",
       "    </tr>\n",
       "    <tr>\n",
       "      <th>18</th>\n",
       "      <td>GP</td>\n",
       "      <td>M</td>\n",
       "      <td>17</td>\n",
       "      <td>U</td>\n",
       "      <td>GT3</td>\n",
       "      <td>T</td>\n",
       "      <td>3.0</td>\n",
       "      <td>2.0</td>\n",
       "      <td>services</td>\n",
       "      <td>services</td>\n",
       "      <td>course</td>\n",
       "      <td>mother</td>\n",
       "      <td>1.0</td>\n",
       "      <td>1.0</td>\n",
       "      <td>3.0</td>\n",
       "      <td>no</td>\n",
       "      <td>yes</td>\n",
       "      <td>NaN</td>\n",
       "      <td>yes</td>\n",
       "      <td>yes</td>\n",
       "      <td>-3.0</td>\n",
       "      <td>yes</td>\n",
       "      <td>yes</td>\n",
       "      <td>no</td>\n",
       "      <td>5.0</td>\n",
       "      <td>5.0</td>\n",
       "      <td>5.0</td>\n",
       "      <td>5.0</td>\n",
       "      <td>16.0</td>\n",
       "      <td>25.0</td>\n",
       "    </tr>\n",
       "    <tr>\n",
       "      <th>19</th>\n",
       "      <td>GP</td>\n",
       "      <td>M</td>\n",
       "      <td>16</td>\n",
       "      <td>U</td>\n",
       "      <td>LE3</td>\n",
       "      <td>T</td>\n",
       "      <td>4.0</td>\n",
       "      <td>3.0</td>\n",
       "      <td>health</td>\n",
       "      <td>other</td>\n",
       "      <td>home</td>\n",
       "      <td>father</td>\n",
       "      <td>1.0</td>\n",
       "      <td>1.0</td>\n",
       "      <td>0.0</td>\n",
       "      <td>no</td>\n",
       "      <td>no</td>\n",
       "      <td>NaN</td>\n",
       "      <td>yes</td>\n",
       "      <td>yes</td>\n",
       "      <td>-3.0</td>\n",
       "      <td>yes</td>\n",
       "      <td>yes</td>\n",
       "      <td>no</td>\n",
       "      <td>3.0</td>\n",
       "      <td>1.0</td>\n",
       "      <td>3.0</td>\n",
       "      <td>5.0</td>\n",
       "      <td>4.0</td>\n",
       "      <td>50.0</td>\n",
       "    </tr>\n",
       "    <tr>\n",
       "      <th>20</th>\n",
       "      <td>GP</td>\n",
       "      <td>M</td>\n",
       "      <td>15</td>\n",
       "      <td>U</td>\n",
       "      <td>GT3</td>\n",
       "      <td>T</td>\n",
       "      <td>4.0</td>\n",
       "      <td>3.0</td>\n",
       "      <td>teacher</td>\n",
       "      <td>other</td>\n",
       "      <td>reputation</td>\n",
       "      <td>mother</td>\n",
       "      <td>1.0</td>\n",
       "      <td>2.0</td>\n",
       "      <td>0.0</td>\n",
       "      <td>no</td>\n",
       "      <td>no</td>\n",
       "      <td>no</td>\n",
       "      <td>no</td>\n",
       "      <td>yes</td>\n",
       "      <td>-6.0</td>\n",
       "      <td>yes</td>\n",
       "      <td>yes</td>\n",
       "      <td>no</td>\n",
       "      <td>NaN</td>\n",
       "      <td>4.0</td>\n",
       "      <td>1.0</td>\n",
       "      <td>1.0</td>\n",
       "      <td>0.0</td>\n",
       "      <td>75.0</td>\n",
       "    </tr>\n",
       "    <tr>\n",
       "      <th>21</th>\n",
       "      <td>GP</td>\n",
       "      <td>M</td>\n",
       "      <td>15</td>\n",
       "      <td>U</td>\n",
       "      <td>GT3</td>\n",
       "      <td>T</td>\n",
       "      <td>4.0</td>\n",
       "      <td>NaN</td>\n",
       "      <td>health</td>\n",
       "      <td>health</td>\n",
       "      <td>other</td>\n",
       "      <td>father</td>\n",
       "      <td>1.0</td>\n",
       "      <td>1.0</td>\n",
       "      <td>NaN</td>\n",
       "      <td>no</td>\n",
       "      <td>yes</td>\n",
       "      <td>NaN</td>\n",
       "      <td>no</td>\n",
       "      <td>yes</td>\n",
       "      <td>-3.0</td>\n",
       "      <td>yes</td>\n",
       "      <td>yes</td>\n",
       "      <td>no</td>\n",
       "      <td>5.0</td>\n",
       "      <td>4.0</td>\n",
       "      <td>2.0</td>\n",
       "      <td>5.0</td>\n",
       "      <td>0.0</td>\n",
       "      <td>75.0</td>\n",
       "    </tr>\n",
       "    <tr>\n",
       "      <th>22</th>\n",
       "      <td>GP</td>\n",
       "      <td>M</td>\n",
       "      <td>16</td>\n",
       "      <td>U</td>\n",
       "      <td>LE3</td>\n",
       "      <td>T</td>\n",
       "      <td>4.0</td>\n",
       "      <td>2.0</td>\n",
       "      <td>teacher</td>\n",
       "      <td>NaN</td>\n",
       "      <td>course</td>\n",
       "      <td>mother</td>\n",
       "      <td>1.0</td>\n",
       "      <td>2.0</td>\n",
       "      <td>0.0</td>\n",
       "      <td>no</td>\n",
       "      <td>NaN</td>\n",
       "      <td>no</td>\n",
       "      <td>yes</td>\n",
       "      <td>NaN</td>\n",
       "      <td>-6.0</td>\n",
       "      <td>yes</td>\n",
       "      <td>yes</td>\n",
       "      <td>no</td>\n",
       "      <td>4.0</td>\n",
       "      <td>5.0</td>\n",
       "      <td>1.0</td>\n",
       "      <td>5.0</td>\n",
       "      <td>2.0</td>\n",
       "      <td>80.0</td>\n",
       "    </tr>\n",
       "    <tr>\n",
       "      <th>23</th>\n",
       "      <td>GP</td>\n",
       "      <td>M</td>\n",
       "      <td>16</td>\n",
       "      <td>U</td>\n",
       "      <td>LE3</td>\n",
       "      <td>T</td>\n",
       "      <td>2.0</td>\n",
       "      <td>2.0</td>\n",
       "      <td>other</td>\n",
       "      <td>other</td>\n",
       "      <td>reputation</td>\n",
       "      <td>mother</td>\n",
       "      <td>2.0</td>\n",
       "      <td>2.0</td>\n",
       "      <td>0.0</td>\n",
       "      <td>no</td>\n",
       "      <td>yes</td>\n",
       "      <td>no</td>\n",
       "      <td>yes</td>\n",
       "      <td>yes</td>\n",
       "      <td>-6.0</td>\n",
       "      <td>yes</td>\n",
       "      <td>yes</td>\n",
       "      <td>no</td>\n",
       "      <td>5.0</td>\n",
       "      <td>4.0</td>\n",
       "      <td>4.0</td>\n",
       "      <td>5.0</td>\n",
       "      <td>0.0</td>\n",
       "      <td>60.0</td>\n",
       "    </tr>\n",
       "    <tr>\n",
       "      <th>24</th>\n",
       "      <td>GP</td>\n",
       "      <td>F</td>\n",
       "      <td>15</td>\n",
       "      <td>R</td>\n",
       "      <td>GT3</td>\n",
       "      <td>T</td>\n",
       "      <td>2.0</td>\n",
       "      <td>4.0</td>\n",
       "      <td>services</td>\n",
       "      <td>health</td>\n",
       "      <td>course</td>\n",
       "      <td>mother</td>\n",
       "      <td>1.0</td>\n",
       "      <td>3.0</td>\n",
       "      <td>0.0</td>\n",
       "      <td>yes</td>\n",
       "      <td>yes</td>\n",
       "      <td>yes</td>\n",
       "      <td>yes</td>\n",
       "      <td>yes</td>\n",
       "      <td>-9.0</td>\n",
       "      <td>yes</td>\n",
       "      <td>yes</td>\n",
       "      <td>no</td>\n",
       "      <td>4.0</td>\n",
       "      <td>3.0</td>\n",
       "      <td>2.0</td>\n",
       "      <td>5.0</td>\n",
       "      <td>NaN</td>\n",
       "      <td>40.0</td>\n",
       "    </tr>\n",
       "    <tr>\n",
       "      <th>25</th>\n",
       "      <td>GP</td>\n",
       "      <td>F</td>\n",
       "      <td>16</td>\n",
       "      <td>U</td>\n",
       "      <td>GT3</td>\n",
       "      <td>NaN</td>\n",
       "      <td>2.0</td>\n",
       "      <td>2.0</td>\n",
       "      <td>services</td>\n",
       "      <td>services</td>\n",
       "      <td>home</td>\n",
       "      <td>mother</td>\n",
       "      <td>1.0</td>\n",
       "      <td>1.0</td>\n",
       "      <td>2.0</td>\n",
       "      <td>no</td>\n",
       "      <td>yes</td>\n",
       "      <td>yes</td>\n",
       "      <td>no</td>\n",
       "      <td>no</td>\n",
       "      <td>-3.0</td>\n",
       "      <td>yes</td>\n",
       "      <td>yes</td>\n",
       "      <td>no</td>\n",
       "      <td>-1.0</td>\n",
       "      <td>2.0</td>\n",
       "      <td>2.0</td>\n",
       "      <td>5.0</td>\n",
       "      <td>14.0</td>\n",
       "      <td>40.0</td>\n",
       "    </tr>\n",
       "    <tr>\n",
       "      <th>26</th>\n",
       "      <td>GP</td>\n",
       "      <td>M</td>\n",
       "      <td>15</td>\n",
       "      <td>U</td>\n",
       "      <td>GT3</td>\n",
       "      <td>T</td>\n",
       "      <td>2.0</td>\n",
       "      <td>2.0</td>\n",
       "      <td>other</td>\n",
       "      <td>NaN</td>\n",
       "      <td>home</td>\n",
       "      <td>mother</td>\n",
       "      <td>NaN</td>\n",
       "      <td>1.0</td>\n",
       "      <td>0.0</td>\n",
       "      <td>no</td>\n",
       "      <td>yes</td>\n",
       "      <td>NaN</td>\n",
       "      <td>no</td>\n",
       "      <td>yes</td>\n",
       "      <td>-3.0</td>\n",
       "      <td>yes</td>\n",
       "      <td>yes</td>\n",
       "      <td>NaN</td>\n",
       "      <td>4.0</td>\n",
       "      <td>2.0</td>\n",
       "      <td>2.0</td>\n",
       "      <td>5.0</td>\n",
       "      <td>2.0</td>\n",
       "      <td>55.0</td>\n",
       "    </tr>\n",
       "    <tr>\n",
       "      <th>27</th>\n",
       "      <td>GP</td>\n",
       "      <td>M</td>\n",
       "      <td>15</td>\n",
       "      <td>U</td>\n",
       "      <td>GT3</td>\n",
       "      <td>T</td>\n",
       "      <td>4.0</td>\n",
       "      <td>2.0</td>\n",
       "      <td>health</td>\n",
       "      <td>services</td>\n",
       "      <td>other</td>\n",
       "      <td>mother</td>\n",
       "      <td>1.0</td>\n",
       "      <td>1.0</td>\n",
       "      <td>0.0</td>\n",
       "      <td>NaN</td>\n",
       "      <td>no</td>\n",
       "      <td>yes</td>\n",
       "      <td>no</td>\n",
       "      <td>yes</td>\n",
       "      <td>-3.0</td>\n",
       "      <td>yes</td>\n",
       "      <td>yes</td>\n",
       "      <td>NaN</td>\n",
       "      <td>2.0</td>\n",
       "      <td>2.0</td>\n",
       "      <td>4.0</td>\n",
       "      <td>1.0</td>\n",
       "      <td>4.0</td>\n",
       "      <td>75.0</td>\n",
       "    </tr>\n",
       "    <tr>\n",
       "      <th>28</th>\n",
       "      <td>GP</td>\n",
       "      <td>M</td>\n",
       "      <td>16</td>\n",
       "      <td>U</td>\n",
       "      <td>LE3</td>\n",
       "      <td>NaN</td>\n",
       "      <td>3.0</td>\n",
       "      <td>4.0</td>\n",
       "      <td>services</td>\n",
       "      <td>other</td>\n",
       "      <td>home</td>\n",
       "      <td>mother</td>\n",
       "      <td>1.0</td>\n",
       "      <td>2.0</td>\n",
       "      <td>0.0</td>\n",
       "      <td>yes</td>\n",
       "      <td>NaN</td>\n",
       "      <td>no</td>\n",
       "      <td>yes</td>\n",
       "      <td>yes</td>\n",
       "      <td>-6.0</td>\n",
       "      <td>yes</td>\n",
       "      <td>yes</td>\n",
       "      <td>no</td>\n",
       "      <td>5.0</td>\n",
       "      <td>3.0</td>\n",
       "      <td>3.0</td>\n",
       "      <td>5.0</td>\n",
       "      <td>4.0</td>\n",
       "      <td>55.0</td>\n",
       "    </tr>\n",
       "    <tr>\n",
       "      <th>29</th>\n",
       "      <td>GP</td>\n",
       "      <td>M</td>\n",
       "      <td>16</td>\n",
       "      <td>U</td>\n",
       "      <td>GT3</td>\n",
       "      <td>T</td>\n",
       "      <td>4.0</td>\n",
       "      <td>4.0</td>\n",
       "      <td>NaN</td>\n",
       "      <td>teacher</td>\n",
       "      <td>home</td>\n",
       "      <td>mother</td>\n",
       "      <td>1.0</td>\n",
       "      <td>2.0</td>\n",
       "      <td>0.0</td>\n",
       "      <td>no</td>\n",
       "      <td>yes</td>\n",
       "      <td>yes</td>\n",
       "      <td>yes</td>\n",
       "      <td>yes</td>\n",
       "      <td>-6.0</td>\n",
       "      <td>yes</td>\n",
       "      <td>yes</td>\n",
       "      <td>yes</td>\n",
       "      <td>4.0</td>\n",
       "      <td>4.0</td>\n",
       "      <td>5.0</td>\n",
       "      <td>5.0</td>\n",
       "      <td>16.0</td>\n",
       "      <td>55.0</td>\n",
       "    </tr>\n",
       "    <tr>\n",
       "      <th>30</th>\n",
       "      <td>GP</td>\n",
       "      <td>M</td>\n",
       "      <td>15</td>\n",
       "      <td>U</td>\n",
       "      <td>GT3</td>\n",
       "      <td>T</td>\n",
       "      <td>4.0</td>\n",
       "      <td>4.0</td>\n",
       "      <td>health</td>\n",
       "      <td>services</td>\n",
       "      <td>home</td>\n",
       "      <td>mother</td>\n",
       "      <td>NaN</td>\n",
       "      <td>2.0</td>\n",
       "      <td>0.0</td>\n",
       "      <td>no</td>\n",
       "      <td>yes</td>\n",
       "      <td>yes</td>\n",
       "      <td>no</td>\n",
       "      <td>no</td>\n",
       "      <td>-6.0</td>\n",
       "      <td>yes</td>\n",
       "      <td>yes</td>\n",
       "      <td>no</td>\n",
       "      <td>5.0</td>\n",
       "      <td>4.0</td>\n",
       "      <td>2.0</td>\n",
       "      <td>NaN</td>\n",
       "      <td>0.0</td>\n",
       "      <td>60.0</td>\n",
       "    </tr>\n",
       "    <tr>\n",
       "      <th>31</th>\n",
       "      <td>GP</td>\n",
       "      <td>M</td>\n",
       "      <td>15</td>\n",
       "      <td>U</td>\n",
       "      <td>GT3</td>\n",
       "      <td>T</td>\n",
       "      <td>4.0</td>\n",
       "      <td>4.0</td>\n",
       "      <td>services</td>\n",
       "      <td>NaN</td>\n",
       "      <td>reputation</td>\n",
       "      <td>mother</td>\n",
       "      <td>2.0</td>\n",
       "      <td>2.0</td>\n",
       "      <td>0.0</td>\n",
       "      <td>no</td>\n",
       "      <td>yes</td>\n",
       "      <td>NaN</td>\n",
       "      <td>yes</td>\n",
       "      <td>yes</td>\n",
       "      <td>-6.0</td>\n",
       "      <td>yes</td>\n",
       "      <td>yes</td>\n",
       "      <td>no</td>\n",
       "      <td>4.0</td>\n",
       "      <td>3.0</td>\n",
       "      <td>1.0</td>\n",
       "      <td>5.0</td>\n",
       "      <td>0.0</td>\n",
       "      <td>85.0</td>\n",
       "    </tr>\n",
       "    <tr>\n",
       "      <th>32</th>\n",
       "      <td>GP</td>\n",
       "      <td>M</td>\n",
       "      <td>15</td>\n",
       "      <td>R</td>\n",
       "      <td>NaN</td>\n",
       "      <td>T</td>\n",
       "      <td>4.0</td>\n",
       "      <td>3.0</td>\n",
       "      <td>teacher</td>\n",
       "      <td>at_home</td>\n",
       "      <td>course</td>\n",
       "      <td>mother</td>\n",
       "      <td>1.0</td>\n",
       "      <td>2.0</td>\n",
       "      <td>0.0</td>\n",
       "      <td>no</td>\n",
       "      <td>yes</td>\n",
       "      <td>no</td>\n",
       "      <td>yes</td>\n",
       "      <td>NaN</td>\n",
       "      <td>-6.0</td>\n",
       "      <td>yes</td>\n",
       "      <td>yes</td>\n",
       "      <td>yes</td>\n",
       "      <td>4.0</td>\n",
       "      <td>NaN</td>\n",
       "      <td>2.0</td>\n",
       "      <td>5.0</td>\n",
       "      <td>0.0</td>\n",
       "      <td>80.0</td>\n",
       "    </tr>\n",
       "    <tr>\n",
       "      <th>33</th>\n",
       "      <td>GP</td>\n",
       "      <td>M</td>\n",
       "      <td>15</td>\n",
       "      <td>U</td>\n",
       "      <td>LE3</td>\n",
       "      <td>T</td>\n",
       "      <td>3.0</td>\n",
       "      <td>3.0</td>\n",
       "      <td>other</td>\n",
       "      <td>other</td>\n",
       "      <td>NaN</td>\n",
       "      <td>mother</td>\n",
       "      <td>1.0</td>\n",
       "      <td>2.0</td>\n",
       "      <td>0.0</td>\n",
       "      <td>no</td>\n",
       "      <td>NaN</td>\n",
       "      <td>no</td>\n",
       "      <td>yes</td>\n",
       "      <td>no</td>\n",
       "      <td>-6.0</td>\n",
       "      <td>yes</td>\n",
       "      <td>yes</td>\n",
       "      <td>no</td>\n",
       "      <td>5.0</td>\n",
       "      <td>3.0</td>\n",
       "      <td>2.0</td>\n",
       "      <td>2.0</td>\n",
       "      <td>0.0</td>\n",
       "      <td>60.0</td>\n",
       "    </tr>\n",
       "    <tr>\n",
       "      <th>34</th>\n",
       "      <td>GP</td>\n",
       "      <td>M</td>\n",
       "      <td>16</td>\n",
       "      <td>U</td>\n",
       "      <td>GT3</td>\n",
       "      <td>T</td>\n",
       "      <td>3.0</td>\n",
       "      <td>2.0</td>\n",
       "      <td>other</td>\n",
       "      <td>other</td>\n",
       "      <td>home</td>\n",
       "      <td>mother</td>\n",
       "      <td>1.0</td>\n",
       "      <td>1.0</td>\n",
       "      <td>0.0</td>\n",
       "      <td>no</td>\n",
       "      <td>yes</td>\n",
       "      <td>yes</td>\n",
       "      <td>no</td>\n",
       "      <td>no</td>\n",
       "      <td>-3.0</td>\n",
       "      <td>NaN</td>\n",
       "      <td>yes</td>\n",
       "      <td>no</td>\n",
       "      <td>5.0</td>\n",
       "      <td>4.0</td>\n",
       "      <td>3.0</td>\n",
       "      <td>5.0</td>\n",
       "      <td>0.0</td>\n",
       "      <td>75.0</td>\n",
       "    </tr>\n",
       "    <tr>\n",
       "      <th>35</th>\n",
       "      <td>GP</td>\n",
       "      <td>F</td>\n",
       "      <td>15</td>\n",
       "      <td>U</td>\n",
       "      <td>GT3</td>\n",
       "      <td>T</td>\n",
       "      <td>2.0</td>\n",
       "      <td>3.0</td>\n",
       "      <td>other</td>\n",
       "      <td>other</td>\n",
       "      <td>other</td>\n",
       "      <td>father</td>\n",
       "      <td>NaN</td>\n",
       "      <td>1.0</td>\n",
       "      <td>0.0</td>\n",
       "      <td>NaN</td>\n",
       "      <td>yes</td>\n",
       "      <td>no</td>\n",
       "      <td>yes</td>\n",
       "      <td>yes</td>\n",
       "      <td>-3.0</td>\n",
       "      <td>yes</td>\n",
       "      <td>no</td>\n",
       "      <td>no</td>\n",
       "      <td>3.0</td>\n",
       "      <td>5.0</td>\n",
       "      <td>1.0</td>\n",
       "      <td>5.0</td>\n",
       "      <td>0.0</td>\n",
       "      <td>30.0</td>\n",
       "    </tr>\n",
       "    <tr>\n",
       "      <th>36</th>\n",
       "      <td>GP</td>\n",
       "      <td>M</td>\n",
       "      <td>15</td>\n",
       "      <td>U</td>\n",
       "      <td>NaN</td>\n",
       "      <td>T</td>\n",
       "      <td>4.0</td>\n",
       "      <td>3.0</td>\n",
       "      <td>teacher</td>\n",
       "      <td>services</td>\n",
       "      <td>home</td>\n",
       "      <td>mother</td>\n",
       "      <td>1.0</td>\n",
       "      <td>3.0</td>\n",
       "      <td>0.0</td>\n",
       "      <td>no</td>\n",
       "      <td>yes</td>\n",
       "      <td>no</td>\n",
       "      <td>yes</td>\n",
       "      <td>yes</td>\n",
       "      <td>-9.0</td>\n",
       "      <td>yes</td>\n",
       "      <td>yes</td>\n",
       "      <td>no</td>\n",
       "      <td>5.0</td>\n",
       "      <td>4.0</td>\n",
       "      <td>3.0</td>\n",
       "      <td>4.0</td>\n",
       "      <td>2.0</td>\n",
       "      <td>90.0</td>\n",
       "    </tr>\n",
       "    <tr>\n",
       "      <th>37</th>\n",
       "      <td>GP</td>\n",
       "      <td>M</td>\n",
       "      <td>16</td>\n",
       "      <td>R</td>\n",
       "      <td>GT3</td>\n",
       "      <td>A</td>\n",
       "      <td>4.0</td>\n",
       "      <td>4.0</td>\n",
       "      <td>other</td>\n",
       "      <td>teacher</td>\n",
       "      <td>reputation</td>\n",
       "      <td>mother</td>\n",
       "      <td>NaN</td>\n",
       "      <td>3.0</td>\n",
       "      <td>0.0</td>\n",
       "      <td>no</td>\n",
       "      <td>yes</td>\n",
       "      <td>no</td>\n",
       "      <td>yes</td>\n",
       "      <td>yes</td>\n",
       "      <td>-9.0</td>\n",
       "      <td>yes</td>\n",
       "      <td>yes</td>\n",
       "      <td>yes</td>\n",
       "      <td>2.0</td>\n",
       "      <td>4.0</td>\n",
       "      <td>3.0</td>\n",
       "      <td>5.0</td>\n",
       "      <td>7.0</td>\n",
       "      <td>75.0</td>\n",
       "    </tr>\n",
       "    <tr>\n",
       "      <th>38</th>\n",
       "      <td>GP</td>\n",
       "      <td>F</td>\n",
       "      <td>15</td>\n",
       "      <td>R</td>\n",
       "      <td>GT3</td>\n",
       "      <td>T</td>\n",
       "      <td>3.0</td>\n",
       "      <td>4.0</td>\n",
       "      <td>services</td>\n",
       "      <td>health</td>\n",
       "      <td>course</td>\n",
       "      <td>NaN</td>\n",
       "      <td>1.0</td>\n",
       "      <td>3.0</td>\n",
       "      <td>0.0</td>\n",
       "      <td>yes</td>\n",
       "      <td>NaN</td>\n",
       "      <td>yes</td>\n",
       "      <td>yes</td>\n",
       "      <td>yes</td>\n",
       "      <td>-9.0</td>\n",
       "      <td>yes</td>\n",
       "      <td>yes</td>\n",
       "      <td>no</td>\n",
       "      <td>4.0</td>\n",
       "      <td>3.0</td>\n",
       "      <td>2.0</td>\n",
       "      <td>5.0</td>\n",
       "      <td>2.0</td>\n",
       "      <td>55.0</td>\n",
       "    </tr>\n",
       "    <tr>\n",
       "      <th>39</th>\n",
       "      <td>GP</td>\n",
       "      <td>F</td>\n",
       "      <td>15</td>\n",
       "      <td>R</td>\n",
       "      <td>GT3</td>\n",
       "      <td>T</td>\n",
       "      <td>2.0</td>\n",
       "      <td>2.0</td>\n",
       "      <td>at_home</td>\n",
       "      <td>other</td>\n",
       "      <td>reputation</td>\n",
       "      <td>mother</td>\n",
       "      <td>1.0</td>\n",
       "      <td>1.0</td>\n",
       "      <td>0.0</td>\n",
       "      <td>yes</td>\n",
       "      <td>yes</td>\n",
       "      <td>yes</td>\n",
       "      <td>yes</td>\n",
       "      <td>yes</td>\n",
       "      <td>-3.0</td>\n",
       "      <td>yes</td>\n",
       "      <td>no</td>\n",
       "      <td>no</td>\n",
       "      <td>4.0</td>\n",
       "      <td>3.0</td>\n",
       "      <td>1.0</td>\n",
       "      <td>2.0</td>\n",
       "      <td>8.0</td>\n",
       "      <td>65.0</td>\n",
       "    </tr>\n",
       "  </tbody>\n",
       "</table>\n",
       "</div>"
      ],
      "text/plain": [
       "   school sex  age address famsize pstatus  medu  fedu      mjob      fjob  \\\n",
       "0      GP   F   18       U     NaN       A   4.0   4.0   at_home   teacher   \n",
       "1      GP   F   17       U     GT3     NaN   1.0   1.0   at_home     other   \n",
       "2      GP   F   15       U     LE3       T   1.0   1.0   at_home     other   \n",
       "3      GP   F   15       U     GT3       T   4.0   2.0    health       NaN   \n",
       "4      GP   F   16       U     GT3       T   3.0   3.0     other     other   \n",
       "5      GP   M   16       U     LE3       T   4.0   3.0  services     other   \n",
       "6      GP   M   16     NaN     LE3       T   2.0   2.0     other     other   \n",
       "7      GP   F   17       U     GT3       A   4.0   4.0     other   teacher   \n",
       "8      GP   M   15       U     LE3       A   3.0   2.0  services     other   \n",
       "9      GP   M   15       U     NaN     NaN   3.0   4.0     other     other   \n",
       "10     GP   F   15       U     GT3       T   4.0   4.0   teacher    health   \n",
       "11     GP   F   15       U     GT3     NaN   2.0  40.0  services     other   \n",
       "12     GP   M   15       U     LE3       T   4.0   4.0    health  services   \n",
       "13     GP   M   15       U     GT3       T   4.0   3.0   teacher     other   \n",
       "14     GP   M   15       U     GT3       A   2.0   2.0     other     other   \n",
       "15     GP   F   16       U     GT3     NaN   4.0   4.0    health     other   \n",
       "16     GP   F   16       U     GT3       T   4.0   4.0  services  services   \n",
       "17     GP   F   16       U     GT3       T   3.0   3.0     other       NaN   \n",
       "18     GP   M   17       U     GT3       T   3.0   2.0  services  services   \n",
       "19     GP   M   16       U     LE3       T   4.0   3.0    health     other   \n",
       "20     GP   M   15       U     GT3       T   4.0   3.0   teacher     other   \n",
       "21     GP   M   15       U     GT3       T   4.0   NaN    health    health   \n",
       "22     GP   M   16       U     LE3       T   4.0   2.0   teacher       NaN   \n",
       "23     GP   M   16       U     LE3       T   2.0   2.0     other     other   \n",
       "24     GP   F   15       R     GT3       T   2.0   4.0  services    health   \n",
       "25     GP   F   16       U     GT3     NaN   2.0   2.0  services  services   \n",
       "26     GP   M   15       U     GT3       T   2.0   2.0     other       NaN   \n",
       "27     GP   M   15       U     GT3       T   4.0   2.0    health  services   \n",
       "28     GP   M   16       U     LE3     NaN   3.0   4.0  services     other   \n",
       "29     GP   M   16       U     GT3       T   4.0   4.0       NaN   teacher   \n",
       "30     GP   M   15       U     GT3       T   4.0   4.0    health  services   \n",
       "31     GP   M   15       U     GT3       T   4.0   4.0  services       NaN   \n",
       "32     GP   M   15       R     NaN       T   4.0   3.0   teacher   at_home   \n",
       "33     GP   M   15       U     LE3       T   3.0   3.0     other     other   \n",
       "34     GP   M   16       U     GT3       T   3.0   2.0     other     other   \n",
       "35     GP   F   15       U     GT3       T   2.0   3.0     other     other   \n",
       "36     GP   M   15       U     NaN       T   4.0   3.0   teacher  services   \n",
       "37     GP   M   16       R     GT3       A   4.0   4.0     other   teacher   \n",
       "38     GP   F   15       R     GT3       T   3.0   4.0  services    health   \n",
       "39     GP   F   15       R     GT3       T   2.0   2.0   at_home     other   \n",
       "\n",
       "        reason guardian  traveltime  studytime  failures schoolsup famsup  \\\n",
       "0       course   mother         2.0        2.0       0.0       yes     no   \n",
       "1       course   father         1.0        2.0       0.0        no    yes   \n",
       "2        other   mother         1.0        2.0       3.0       yes     no   \n",
       "3         home   mother         1.0        3.0       0.0        no    yes   \n",
       "4         home   father         1.0        2.0       0.0        no    yes   \n",
       "5   reputation   mother         1.0        2.0       0.0        no    yes   \n",
       "6         home   mother         1.0        2.0       0.0        no     no   \n",
       "7         home   mother         2.0        2.0       0.0       yes    yes   \n",
       "8         home   mother         1.0        2.0       0.0        no    yes   \n",
       "9         home   mother         1.0        2.0       0.0        no    yes   \n",
       "10  reputation   mother         1.0        2.0       0.0        no    yes   \n",
       "11  reputation   father         3.0        3.0       0.0        no    yes   \n",
       "12      course   father         1.0        1.0       0.0        no    yes   \n",
       "13      course   mother         2.0        2.0       0.0        no    yes   \n",
       "14        home    other         1.0        3.0       0.0        no    yes   \n",
       "15        home   mother         1.0        1.0       0.0        no    yes   \n",
       "16  reputation   mother         1.0        3.0       0.0        no    yes   \n",
       "17  reputation   mother         3.0        NaN       0.0       yes    NaN   \n",
       "18      course   mother         1.0        1.0       3.0        no    yes   \n",
       "19        home   father         1.0        1.0       0.0        no     no   \n",
       "20  reputation   mother         1.0        2.0       0.0        no     no   \n",
       "21       other   father         1.0        1.0       NaN        no    yes   \n",
       "22      course   mother         1.0        2.0       0.0        no    NaN   \n",
       "23  reputation   mother         2.0        2.0       0.0        no    yes   \n",
       "24      course   mother         1.0        3.0       0.0       yes    yes   \n",
       "25        home   mother         1.0        1.0       2.0        no    yes   \n",
       "26        home   mother         NaN        1.0       0.0        no    yes   \n",
       "27       other   mother         1.0        1.0       0.0       NaN     no   \n",
       "28        home   mother         1.0        2.0       0.0       yes    NaN   \n",
       "29        home   mother         1.0        2.0       0.0        no    yes   \n",
       "30        home   mother         NaN        2.0       0.0        no    yes   \n",
       "31  reputation   mother         2.0        2.0       0.0        no    yes   \n",
       "32      course   mother         1.0        2.0       0.0        no    yes   \n",
       "33         NaN   mother         1.0        2.0       0.0        no    NaN   \n",
       "34        home   mother         1.0        1.0       0.0        no    yes   \n",
       "35       other   father         NaN        1.0       0.0       NaN    yes   \n",
       "36        home   mother         1.0        3.0       0.0        no    yes   \n",
       "37  reputation   mother         NaN        3.0       0.0        no    yes   \n",
       "38      course      NaN         1.0        3.0       0.0       yes    NaN   \n",
       "39  reputation   mother         1.0        1.0       0.0       yes    yes   \n",
       "\n",
       "   paid activities nursery  studytime_granular higher internet romantic  \\\n",
       "0    no         no     yes                -6.0    yes      NaN       no   \n",
       "1    no         no      no                -6.0    yes      yes       no   \n",
       "2   NaN         no     yes                -6.0    yes      yes      NaN   \n",
       "3   yes        yes     yes                -9.0    yes      yes      yes   \n",
       "4   yes         no     yes                -6.0    yes       no       no   \n",
       "5   yes        yes     yes                -6.0    yes      yes       no   \n",
       "6    no         no     yes                -6.0    yes      yes       no   \n",
       "7    no         no     yes                -6.0    yes       no       no   \n",
       "8   yes         no     yes                -6.0    yes      yes       no   \n",
       "9   yes        yes     yes                -6.0    yes      yes       no   \n",
       "10  yes         no     yes                -6.0    yes      yes       no   \n",
       "11   no        yes     yes                -9.0    yes      yes       no   \n",
       "12  yes        yes     yes                -3.0    yes      NaN       no   \n",
       "13  yes         no     yes                -6.0    yes      yes      NaN   \n",
       "14   no         no     yes                -9.0    yes      yes      yes   \n",
       "15   no         no     yes                -3.0    yes      yes       no   \n",
       "16  yes        yes     yes                -9.0    yes      yes       no   \n",
       "17   no        yes     yes                 NaN    yes       no       no   \n",
       "18  NaN        yes     yes                -3.0    yes      yes       no   \n",
       "19  NaN        yes     yes                -3.0    yes      yes       no   \n",
       "20   no         no     yes                -6.0    yes      yes       no   \n",
       "21  NaN         no     yes                -3.0    yes      yes       no   \n",
       "22   no        yes     NaN                -6.0    yes      yes       no   \n",
       "23   no        yes     yes                -6.0    yes      yes       no   \n",
       "24  yes        yes     yes                -9.0    yes      yes       no   \n",
       "25  yes         no      no                -3.0    yes      yes       no   \n",
       "26  NaN         no     yes                -3.0    yes      yes      NaN   \n",
       "27  yes         no     yes                -3.0    yes      yes      NaN   \n",
       "28   no        yes     yes                -6.0    yes      yes       no   \n",
       "29  yes        yes     yes                -6.0    yes      yes      yes   \n",
       "30  yes         no      no                -6.0    yes      yes       no   \n",
       "31  NaN        yes     yes                -6.0    yes      yes       no   \n",
       "32   no        yes     NaN                -6.0    yes      yes      yes   \n",
       "33   no        yes      no                -6.0    yes      yes       no   \n",
       "34  yes         no      no                -3.0    NaN      yes       no   \n",
       "35   no        yes     yes                -3.0    yes       no       no   \n",
       "36   no        yes     yes                -9.0    yes      yes       no   \n",
       "37   no        yes     yes                -9.0    yes      yes      yes   \n",
       "38  yes        yes     yes                -9.0    yes      yes       no   \n",
       "39  yes        yes     yes                -3.0    yes       no       no   \n",
       "\n",
       "    famrel  freetime  goout  health  absences  score  \n",
       "0      4.0       3.0    4.0     3.0       6.0   30.0  \n",
       "1      5.0       3.0    3.0     3.0       4.0   30.0  \n",
       "2      4.0       3.0    2.0     3.0      10.0   50.0  \n",
       "3      3.0       2.0    2.0     5.0       2.0   75.0  \n",
       "4      4.0       3.0    2.0     5.0       4.0   50.0  \n",
       "5      5.0       4.0    2.0     5.0      10.0   75.0  \n",
       "6      4.0       4.0    4.0     3.0       0.0   55.0  \n",
       "7      4.0       1.0    4.0     1.0       6.0   30.0  \n",
       "8      NaN       2.0    2.0     1.0       0.0   95.0  \n",
       "9      5.0       5.0    1.0     5.0       0.0   75.0  \n",
       "10     3.0       3.0    3.0     2.0       0.0   45.0  \n",
       "11     5.0       2.0    2.0     4.0       4.0   60.0  \n",
       "12     NaN       3.0    3.0     5.0       2.0   70.0  \n",
       "13     5.0       4.0    3.0     3.0       2.0   55.0  \n",
       "14     4.0       5.0    2.0     3.0       0.0   80.0  \n",
       "15     4.0       4.0    4.0     2.0       4.0   70.0  \n",
       "16     3.0       2.0    3.0     2.0       6.0   70.0  \n",
       "17     5.0       3.0    2.0     4.0       4.0   50.0  \n",
       "18     5.0       5.0    5.0     5.0      16.0   25.0  \n",
       "19     3.0       1.0    3.0     5.0       4.0   50.0  \n",
       "20     NaN       4.0    1.0     1.0       0.0   75.0  \n",
       "21     5.0       4.0    2.0     5.0       0.0   75.0  \n",
       "22     4.0       5.0    1.0     5.0       2.0   80.0  \n",
       "23     5.0       4.0    4.0     5.0       0.0   60.0  \n",
       "24     4.0       3.0    2.0     5.0       NaN   40.0  \n",
       "25    -1.0       2.0    2.0     5.0      14.0   40.0  \n",
       "26     4.0       2.0    2.0     5.0       2.0   55.0  \n",
       "27     2.0       2.0    4.0     1.0       4.0   75.0  \n",
       "28     5.0       3.0    3.0     5.0       4.0   55.0  \n",
       "29     4.0       4.0    5.0     5.0      16.0   55.0  \n",
       "30     5.0       4.0    2.0     NaN       0.0   60.0  \n",
       "31     4.0       3.0    1.0     5.0       0.0   85.0  \n",
       "32     4.0       NaN    2.0     5.0       0.0   80.0  \n",
       "33     5.0       3.0    2.0     2.0       0.0   60.0  \n",
       "34     5.0       4.0    3.0     5.0       0.0   75.0  \n",
       "35     3.0       5.0    1.0     5.0       0.0   30.0  \n",
       "36     5.0       4.0    3.0     4.0       2.0   90.0  \n",
       "37     2.0       4.0    3.0     5.0       7.0   75.0  \n",
       "38     4.0       3.0    2.0     5.0       2.0   55.0  \n",
       "39     4.0       3.0    1.0     2.0       8.0   65.0  "
      ]
     },
     "metadata": {},
     "output_type": "display_data"
    },
    {
     "name": "stdout",
     "output_type": "stream",
     "text": [
      "<class 'pandas.core.frame.DataFrame'>\n",
      "RangeIndex: 395 entries, 0 to 394\n",
      "Data columns (total 30 columns):\n",
      " #   Column              Non-Null Count  Dtype  \n",
      "---  ------              --------------  -----  \n",
      " 0   school              395 non-null    object \n",
      " 1   sex                 395 non-null    object \n",
      " 2   age                 395 non-null    int64  \n",
      " 3   address             378 non-null    object \n",
      " 4   famsize             368 non-null    object \n",
      " 5   pstatus             350 non-null    object \n",
      " 6   medu                392 non-null    float64\n",
      " 7   fedu                371 non-null    float64\n",
      " 8   mjob                376 non-null    object \n",
      " 9   fjob                359 non-null    object \n",
      " 10  reason              378 non-null    object \n",
      " 11  guardian            364 non-null    object \n",
      " 12  traveltime          367 non-null    float64\n",
      " 13  studytime           388 non-null    float64\n",
      " 14  failures            373 non-null    float64\n",
      " 15  schoolsup           386 non-null    object \n",
      " 16  famsup              356 non-null    object \n",
      " 17  paid                355 non-null    object \n",
      " 18  activities          381 non-null    object \n",
      " 19  nursery             379 non-null    object \n",
      " 20  studytime_granular  388 non-null    float64\n",
      " 21  higher              375 non-null    object \n",
      " 22  internet            361 non-null    object \n",
      " 23  romantic            364 non-null    object \n",
      " 24  famrel              368 non-null    float64\n",
      " 25  freetime            384 non-null    float64\n",
      " 26  goout               387 non-null    float64\n",
      " 27  health              380 non-null    float64\n",
      " 28  absences            383 non-null    float64\n",
      " 29  score               389 non-null    float64\n",
      "dtypes: float64(12), int64(1), object(17)\n",
      "memory usage: 92.7+ KB\n"
     ]
    }
   ],
   "source": [
    "# 1. Загружаем необходимые библиотеки, файл для анализа и 50 строк и столбцов, задаем названия столбцам\n",
    "import pandas as pd\n",
    "import numpy as np\n",
    "import matplotlib.pyplot as plt\n",
    "import seaborn as sns\n",
    "from itertools import combinations\n",
    "from scipy.stats import ttest_ind\n",
    "import warnings\n",
    "warnings.simplefilter('ignore')\n",
    "\n",
    "pd.set_option('display.max_rows', 400)  # показывать больше строк\n",
    "pd.set_option('display.max_columns', 50)  # показывать больше колонок\n",
    "\n",
    "student = pd.read_csv('c:/stud_math.csv', header=0)\n",
    "# переименуем переменные\n",
    "student.columns = ['school', 'sex', 'age', 'address', 'famsize', 'pstatus', 'medu', 'fedu', 'mjob', 'fjob',\n",
    "                   'reason', 'guardian', 'traveltime', 'studytime', 'failures', 'schoolsup',\n",
    "                   'famsup', 'paid', 'activities', 'nursery', \"studytime_granular\", 'higher', 'internet', 'romantic',\n",
    "                   'famrel', 'freetime', 'goout', 'health', 'absences', 'score']\n",
    "\n",
    "# выводим первые 40 строк датасета, а также информацию о нем\n",
    "display(student.head(40))\n",
    "student.info()"
   ]
  },
  {
   "cell_type": "markdown",
   "metadata": {},
   "source": [
    "По итогам загрузки и просмотра данных набор содержит данные о 396 учениках. Столбцы school, age, sex не содержат пропусков, остальные 27, включая целевую переменную score содержат Nan. \n",
    "\n",
    "17 столбцов со строковым типом данных, остальные с числовым типом данных, при этом в числовые столбцы попали переменные, которые содержат категорийные значения, закодированные чиловым значением."
   ]
  },
  {
   "cell_type": "code",
   "execution_count": 351,
   "metadata": {},
   "outputs": [
    {
     "name": "stdout",
     "output_type": "stream",
     "text": [
      "Максимальное количество пропусков в строке: 20 %\n",
      "Минимальное количество пропусков в строке: 0 %\n"
     ]
    }
   ],
   "source": [
    "# вычислим процент максимального / минимального количества пропусков в стоках набора данных для принятия решения\n",
    "# по строками с большимим количеством пропусков в данных\n",
    "misses_max = max(student.apply(lambda x: sum(\n",
    "    x.isnull()), axis=1,))/student.shape[1]\n",
    "misses_min = min(student.apply(lambda x: sum(\n",
    "    x.isnull()), axis=1,))/student.shape[1]\n",
    "print('Максимальное количество пропусков в строке:', round(misses_max*100), '%')\n",
    "print('Минимальное количество пропусков в строке:', round(misses_min*100), '%')"
   ]
  },
  {
   "cell_type": "markdown",
   "metadata": {},
   "source": [
    "На основе расчета количества пропусков можно сделать выводы о максимальном количестве пропусков в строках - 20%. Также просматривая строки с данными и NaN визуально не обнаружил группировок NaN (кластеров), на основе чего делаю предположение о равномерном распределении NaN среди значений столбцов.\n",
    "\n",
    "Исходя из вышеуказанных расчетов и наблюдений, предлагаю не удалять NaN из данных, а заполнить их медианой или модой в зависимости от типа данных. Исключение для заполнения пропусков составит целевая переменная score."
   ]
  },
  {
   "cell_type": "markdown",
   "metadata": {},
   "source": [
    "#### Задаем функции"
   ]
  },
  {
   "cell_type": "code",
   "execution_count": 352,
   "metadata": {},
   "outputs": [],
   "source": [
    "# функция выводит информацию с описанием переменной, считает пропуски в данных, визуализирует переменные\n",
    "def column_info(student_column, hist_name='None'):\n",
    "    # Опеределяем тип данных атрибута\n",
    "    if student_column.dtype == 'int64' or student_column.dtype == 'float64':\n",
    "\n",
    "        # Выводим описание переменной\n",
    "        # display(student_column.describe())\n",
    "        # Считаем пропуски в данных\n",
    "        print('Пропущенных значений: {}' .format(student_column[student_column.isnull() == True].size),\n",
    "              '\\nПроцент пропущенных данных: {}%' .format(round(student_column[student_column.isnull() == True].size*100/395)))\n",
    "        print('Уникальные значения: {}' .format(student_column.unique()),\n",
    "              '\\nКоличество уникальных значений: \\n{}'.format(student_column.value_counts()))\n",
    "\n",
    "        # Пробуем найти выбросы в данных, для этого буду строить столбчатые диаграммы\n",
    "        sns.countplot(x=student_column, data=student)\n",
    "\n",
    "    else:\n",
    "        # Считаем пропуски в данных\n",
    "        print('Пропущенных значений: {}' .format(student_column[student_column.isnull() == True].size),\n",
    "              '\\nПроцент пропущенных данных: {}%' .format(round(student_column[student_column.isnull() == True].size*100/395)))\n",
    "        print('Уникальные значения: {}' .format(student_column.unique()),\n",
    "              '\\nКоличество уникальных значений: \\n{}'.format(student_column.value_counts()))\n",
    "\n",
    "        # строим график соотношения уникальных значений друг относительно друга\n",
    "        sns.countplot(x=student_column, data=student)\n",
    "\n",
    "\n",
    "# функция принимает датафрейм с переменными, два признака и показывает boxplot\n",
    "def get_boxplot(data, column, score_column):\n",
    "    fig, ax = plt.subplots(figsize=(10, 4))\n",
    "    sns.boxplot(x=column, y='score', data=data.loc[data.loc[:, column].isin(\n",
    "        data.loc[:, column].value_counts().index[:10])], ax=ax)\n",
    "    plt.xticks(rotation=45)\n",
    "    ax.set_title('Boxplot for ' + column)\n",
    "    plt.show()\n",
    "\n",
    "# функция проверяет, есть ли статистическая разница в распределении оценок по номинативным признакам, с помощью теста Стьюдента.\n",
    "\n",
    "\n",
    "def get_stat_dif(data, column, score_column):\n",
    "\n",
    "    cols = student_nom.loc[:, column].value_counts().index[:10]\n",
    "    combinations_all = list(combinations(cols, 2))\n",
    "    for comb in combinations_all:\n",
    "        p_value = ttest_ind(data.loc[data.loc[:, column] == comb[0], score_column],\n",
    "                            data.loc[data.loc[:, column] == comb[1], score_column]).pvalue\n",
    "        if p_value <= 0.05/len(combinations_all):  # Учли поправку Бонферони\n",
    "            print('Внимание! Найдены статистически значимые различия для переменных {} и {}'\n",
    "                  .format(column, score_column))\n",
    "            break\n",
    "    else:\n",
    "        print('Статистические различия для переменных {} и {} не найдены '\n",
    "              .format(column, score_column))"
   ]
  },
  {
   "cell_type": "markdown",
   "metadata": {},
   "source": [
    "#### Переменная \"Школа\" (school)"
   ]
  },
  {
   "cell_type": "code",
   "execution_count": 353,
   "metadata": {},
   "outputs": [
    {
     "name": "stdout",
     "output_type": "stream",
     "text": [
      "Пропущенных значений: 0 \n",
      "Процент пропущенных данных: 0%\n",
      "Уникальные значения: ['GP' 'MS'] \n",
      "Количество уникальных значений: \n",
      "GP    349\n",
      "MS     46\n",
      "Name: school, dtype: int64\n"
     ]
    },
    {
     "data": {
      "image/png": "[encoded data removed]",
      "text/plain": [
       "<Figure size 432x288 with 1 Axes>"
      ]
     },
     "metadata": {
      "needs_background": "light"
     },
     "output_type": "display_data"
    }
   ],
   "source": [
    "column_info(student.school)"
   ]
  },
  {
   "cell_type": "markdown",
   "metadata": {},
   "source": [
    "Выборка с оценками только 2 школ GP, MS что может быть недостаточно для построения модели"
   ]
  },
  {
   "cell_type": "markdown",
   "metadata": {},
   "source": [
    "#### Поведем анализ переменных"
   ]
  },
  {
   "cell_type": "markdown",
   "metadata": {},
   "source": [
    "#### Переменная \"Возраст\" (age)"
   ]
  },
  {
   "cell_type": "code",
   "execution_count": 354,
   "metadata": {},
   "outputs": [
    {
     "name": "stdout",
     "output_type": "stream",
     "text": [
      "Пропущенных значений: 0 \n",
      "Процент пропущенных данных: 0%\n",
      "Уникальные значения: [18 17 15 16 19 22 20 21] \n",
      "Количество уникальных значений: \n",
      "16    104\n",
      "17     98\n",
      "18     82\n",
      "15     82\n",
      "19     24\n",
      "20      3\n",
      "22      1\n",
      "21      1\n",
      "Name: age, dtype: int64\n"
     ]
    },
    {
     "data": {
      "image/png": "[encoded data removed]",
      "text/plain": [
       "<Figure size 432x288 with 1 Axes>"
      ]
     },
     "metadata": {
      "needs_background": "light"
     },
     "output_type": "display_data"
    }
   ],
   "source": [
    "column_info(student.age)"
   ]
  },
  {
   "cell_type": "markdown",
   "metadata": {},
   "source": [
    "В переменной age есть незначительное количество учеников с возрастом 20-22, что отличается от основной массы учеников от 15 до 19 лет. Возможно эти студенты переносили свое обучение на год, два или учатся по расширенной программе обучения."
   ]
  },
  {
   "cell_type": "markdown",
   "metadata": {},
   "source": [
    "#### Переменная \"Пол\" (sex)"
   ]
  },
  {
   "cell_type": "code",
   "execution_count": 355,
   "metadata": {},
   "outputs": [
    {
     "name": "stdout",
     "output_type": "stream",
     "text": [
      "Пропущенных значений: 0 \n",
      "Процент пропущенных данных: 0%\n",
      "Уникальные значения: ['F' 'M'] \n",
      "Количество уникальных значений: \n",
      "F    208\n",
      "M    187\n",
      "Name: sex, dtype: int64\n"
     ]
    },
    {
     "data": {
      "image/png": "[encoded data removed]",
      "text/plain": [
       "<Figure size 432x288 with 1 Axes>"
      ]
     },
     "metadata": {
      "needs_background": "light"
     },
     "output_type": "display_data"
    }
   ],
   "source": [
    "column_info(student.sex)"
   ]
  },
  {
   "cell_type": "markdown",
   "metadata": {},
   "source": [
    "Распределение между юношами и девушками примерно одинаково, пропущенных значений нет"
   ]
  },
  {
   "cell_type": "markdown",
   "metadata": {},
   "source": [
    "#### Переменная \"Адрес\" (address)"
   ]
  },
  {
   "cell_type": "code",
   "execution_count": 356,
   "metadata": {},
   "outputs": [
    {
     "name": "stdout",
     "output_type": "stream",
     "text": [
      "Пропущенных значений: 17 \n",
      "Процент пропущенных данных: 4%\n",
      "Уникальные значения: ['U' nan 'R'] \n",
      "Количество уникальных значений: \n",
      "U    295\n",
      "R     83\n",
      "Name: address, dtype: int64\n"
     ]
    },
    {
     "data": {
      "image/png": "[encoded data removed]",
      "text/plain": [
       "<Figure size 432x288 with 1 Axes>"
      ]
     },
     "metadata": {
      "needs_background": "light"
     },
     "output_type": "display_data"
    }
   ],
   "source": [
    "column_info(student.address)"
   ]
  },
  {
   "cell_type": "markdown",
   "metadata": {},
   "source": [
    "В большинстве студенты живут в городе, меньшинство за городом. В переменной 4% пропущенных значений, которые заменим на значение переменной U - город, т.к. большинство студентов живут в городе."
   ]
  },
  {
   "cell_type": "code",
   "execution_count": 357,
   "metadata": {},
   "outputs": [],
   "source": [
    "student.address = student.address.apply(lambda x: 'U' if pd.isnull(x) else x)"
   ]
  },
  {
   "cell_type": "markdown",
   "metadata": {},
   "source": [
    "#### Переменная \"Размер семьи\" (famsize)"
   ]
  },
  {
   "cell_type": "code",
   "execution_count": 358,
   "metadata": {},
   "outputs": [
    {
     "name": "stdout",
     "output_type": "stream",
     "text": [
      "Пропущенных значений: 27 \n",
      "Процент пропущенных данных: 7%\n",
      "Уникальные значения: [nan 'GT3' 'LE3'] \n",
      "Количество уникальных значений: \n",
      "GT3    261\n",
      "LE3    107\n",
      "Name: famsize, dtype: int64\n"
     ]
    },
    {
     "data": {
      "image/png": "[encoded data removed]",
      "text/plain": [
       "<Figure size 432x288 with 1 Axes>"
      ]
     },
     "metadata": {
      "needs_background": "light"
     },
     "output_type": "display_data"
    }
   ],
   "source": [
    "column_info(student.famsize)"
   ]
  },
  {
   "cell_type": "markdown",
   "metadata": {},
   "source": [
    "В большинстве семей студентов более трех детей, остальные (42 процента) семьи включают менее 3 детей. 7 процентов пропусков в данных которые заменим на значение GT3 - семьи где более трех детей."
   ]
  },
  {
   "cell_type": "code",
   "execution_count": 359,
   "metadata": {},
   "outputs": [],
   "source": [
    "student.famsize = student.famsize.apply(lambda x: 'GT3' if pd.isnull(x) else x)"
   ]
  },
  {
   "cell_type": "markdown",
   "metadata": {},
   "source": [
    "#### Переменная \"Статус совместного жилья родителей\" (pstatus)"
   ]
  },
  {
   "cell_type": "code",
   "execution_count": 360,
   "metadata": {},
   "outputs": [
    {
     "name": "stdout",
     "output_type": "stream",
     "text": [
      "Пропущенных значений: 45 \n",
      "Процент пропущенных данных: 11%\n",
      "Уникальные значения: ['A' nan 'T'] \n",
      "Количество уникальных значений: \n",
      "T    314\n",
      "A     36\n",
      "Name: pstatus, dtype: int64\n"
     ]
    },
    {
     "data": {
      "image/png": "[encoded data removed]",
      "text/plain": [
       "<Figure size 432x288 with 1 Axes>"
      ]
     },
     "metadata": {
      "needs_background": "light"
     },
     "output_type": "display_data"
    }
   ],
   "source": [
    "column_info(student.pstatus)"
   ]
  },
  {
   "cell_type": "markdown",
   "metadata": {},
   "source": [
    "Переменная характеризует семейный статус родителей (в браке или разводе), на диаграмме видно что разведенных меньшинство. Кроме того 45 значений пропущены, предлагаю заменить их на медиану - значение Т (в браке) "
   ]
  },
  {
   "cell_type": "code",
   "execution_count": 361,
   "metadata": {},
   "outputs": [],
   "source": [
    "student.pstatus = student.pstatus.apply(lambda x: 'T' if pd.isnull(x) else x)"
   ]
  },
  {
   "cell_type": "markdown",
   "metadata": {},
   "source": [
    "#### Переменная \"Образование матери\" (medu)"
   ]
  },
  {
   "cell_type": "code",
   "execution_count": 362,
   "metadata": {},
   "outputs": [
    {
     "name": "stdout",
     "output_type": "stream",
     "text": [
      "Пропущенных значений: 3 \n",
      "Процент пропущенных данных: 1%\n",
      "Уникальные значения: [ 4.  1.  3.  2. nan  0.] \n",
      "Количество уникальных значений: \n",
      "4.0    131\n",
      "2.0    102\n",
      "3.0     97\n",
      "1.0     59\n",
      "0.0      3\n",
      "Name: medu, dtype: int64\n"
     ]
    },
    {
     "data": {
      "image/png": "[encoded data removed]",
      "text/plain": [
       "<Figure size 432x288 with 1 Axes>"
      ]
     },
     "metadata": {
      "needs_background": "light"
     },
     "output_type": "display_data"
    }
   ],
   "source": [
    "column_info(student.medu)"
   ]
  },
  {
   "cell_type": "markdown",
   "metadata": {},
   "source": [
    "Более половины матерей студентов имеют высшее и средне образование, и все мамы студентов учились в школе. В данных три пропуска, которые заменим на медиану."
   ]
  },
  {
   "cell_type": "code",
   "execution_count": 363,
   "metadata": {},
   "outputs": [],
   "source": [
    "student.medu = student.medu.fillna(student.medu.median())"
   ]
  },
  {
   "cell_type": "markdown",
   "metadata": {},
   "source": [
    "#### Переменная \"Образование отца\" (fedu)"
   ]
  },
  {
   "cell_type": "code",
   "execution_count": 364,
   "metadata": {},
   "outputs": [
    {
     "name": "stdout",
     "output_type": "stream",
     "text": [
      "Пропущенных значений: 24 \n",
      "Процент пропущенных данных: 6%\n",
      "Уникальные значения: [ 4.  1.  2.  3. 40. nan  0.] \n",
      "Количество уникальных значений: \n",
      "2.0     106\n",
      "3.0      96\n",
      "4.0      88\n",
      "1.0      78\n",
      "0.0       2\n",
      "40.0      1\n",
      "Name: fedu, dtype: int64\n"
     ]
    },
    {
     "data": {
      "image/png": "[encoded data removed]",
      "text/plain": [
       "<Figure size 432x288 with 1 Axes>"
      ]
     },
     "metadata": {
      "needs_background": "light"
     },
     "output_type": "display_data"
    }
   ],
   "source": [
    "column_info(student.fedu)"
   ]
  },
  {
   "cell_type": "markdown",
   "metadata": {},
   "source": [
    "Более половины отцов студентов имеют высшее и среднее образование и все отцы студентов ходили в школу. В данных есть выброс 40\n",
    "и 2 пропущенных значения, предлагаю выброс и пропуски заменить на медиану."
   ]
  },
  {
   "cell_type": "code",
   "execution_count": 365,
   "metadata": {},
   "outputs": [],
   "source": [
    "student.fedu = student.fedu.fillna(student.fedu.median())\n",
    "student.fedu = student.fedu.replace({40: (student.fedu.median())})"
   ]
  },
  {
   "cell_type": "markdown",
   "metadata": {},
   "source": [
    "#### Переменная \"Работа матери\" (mjob)"
   ]
  },
  {
   "cell_type": "code",
   "execution_count": 366,
   "metadata": {},
   "outputs": [
    {
     "name": "stdout",
     "output_type": "stream",
     "text": [
      "Пропущенных значений: 19 \n",
      "Процент пропущенных данных: 5%\n",
      "Уникальные значения: ['at_home' 'health' 'other' 'services' 'teacher' nan] \n",
      "Количество уникальных значений: \n",
      "other       133\n",
      "services     98\n",
      "at_home      58\n",
      "teacher      55\n",
      "health       32\n",
      "Name: mjob, dtype: int64\n"
     ]
    },
    {
     "data": {
      "image/png": "[encoded data removed]",
      "text/plain": [
       "<Figure size 432x288 with 1 Axes>"
      ]
     },
     "metadata": {
      "needs_background": "light"
     },
     "output_type": "display_data"
    }
   ],
   "source": [
    "column_info(student.mjob)"
   ]
  },
  {
   "cell_type": "markdown",
   "metadata": {},
   "source": [
    "Атрибут работа матери студента содержит 5% пропусков которые будут заменены на медиану. Классификация работы составлена не удачно, содержит специальности (учитель) или отрасль (здоровье), а наиболее часто встречаемое значение прочая работа не позволяет понять где заняты мамы студентов (проблема составления классификатора/опросника, на основе которого был составлен датасет). "
   ]
  },
  {
   "cell_type": "code",
   "execution_count": 367,
   "metadata": {},
   "outputs": [],
   "source": [
    "student.mjob = student.mjob.fillna(student.mjob.mode()[0])"
   ]
  },
  {
   "cell_type": "markdown",
   "metadata": {},
   "source": [
    "#### Переменная \"Работа отца\" (fjob)"
   ]
  },
  {
   "cell_type": "code",
   "execution_count": 368,
   "metadata": {},
   "outputs": [
    {
     "name": "stdout",
     "output_type": "stream",
     "text": [
      "Пропущенных значений: 36 \n",
      "Процент пропущенных данных: 9%\n",
      "Уникальные значения: ['teacher' 'other' nan 'health' 'services' 'at_home'] \n",
      "Количество уникальных значений: \n",
      "other       197\n",
      "services    102\n",
      "teacher      29\n",
      "at_home      16\n",
      "health       15\n",
      "Name: fjob, dtype: int64\n"
     ]
    },
    {
     "data": {
      "image/png": "[encoded data removed]",
      "text/plain": [
       "<Figure size 432x288 with 1 Axes>"
      ]
     },
     "metadata": {
      "needs_background": "light"
     },
     "output_type": "display_data"
    }
   ],
   "source": [
    "column_info(student.fjob)"
   ]
  },
  {
   "cell_type": "markdown",
   "metadata": {},
   "source": [
    "Атрибут работа отца, похож по проблематике на атрибут работа матери. Пропущенные значения будут заменены на моду."
   ]
  },
  {
   "cell_type": "code",
   "execution_count": 369,
   "metadata": {},
   "outputs": [],
   "source": [
    "student.fjob = student.fjob.fillna(student.fjob.mode()[0])"
   ]
  },
  {
   "cell_type": "markdown",
   "metadata": {},
   "source": [
    "#### Переменная  \"Причина выбора школы\" (reason)"
   ]
  },
  {
   "cell_type": "code",
   "execution_count": 370,
   "metadata": {},
   "outputs": [
    {
     "name": "stdout",
     "output_type": "stream",
     "text": [
      "Пропущенных значений: 17 \n",
      "Процент пропущенных данных: 4%\n",
      "Уникальные значения: ['course' 'other' 'home' 'reputation' nan] \n",
      "Количество уникальных значений: \n",
      "course        137\n",
      "home          104\n",
      "reputation    103\n",
      "other          34\n",
      "Name: reason, dtype: int64\n"
     ]
    },
    {
     "data": {
      "image/png": "[encoded data removed]",
      "text/plain": [
       "<Figure size 432x288 with 1 Axes>"
      ]
     },
     "metadata": {
      "needs_background": "light"
     },
     "output_type": "display_data"
    }
   ],
   "source": [
    "column_info(student.reason)"
   ]
  },
  {
   "cell_type": "markdown",
   "metadata": {},
   "source": [
    "В большинстве родители выбирали школу для детей в первую очередь исходя из программы, и в меньшей степени репутации и близости к дому. Атрибут причина выбора школы содержит 17 пропущенных значений которые будут заменены на моду."
   ]
  },
  {
   "cell_type": "code",
   "execution_count": 371,
   "metadata": {},
   "outputs": [],
   "source": [
    "student.reason = student.reason.fillna(student.reason.mode()[0])"
   ]
  },
  {
   "cell_type": "markdown",
   "metadata": {},
   "source": [
    "#### Переменная \"Опекун\" (guardian)"
   ]
  },
  {
   "cell_type": "code",
   "execution_count": 372,
   "metadata": {},
   "outputs": [
    {
     "name": "stdout",
     "output_type": "stream",
     "text": [
      "Пропущенных значений: 31 \n",
      "Процент пропущенных данных: 8%\n",
      "Уникальные значения: ['mother' 'father' 'other' nan] \n",
      "Количество уникальных значений: \n",
      "mother    250\n",
      "father     86\n",
      "other      28\n",
      "Name: guardian, dtype: int64\n"
     ]
    },
    {
     "data": {
      "image/png": "[encoded data removed]",
      "text/plain": [
       "<Figure size 432x288 with 1 Axes>"
      ]
     },
     "metadata": {
      "needs_background": "light"
     },
     "output_type": "display_data"
    }
   ],
   "source": [
    "column_info(student.guardian)"
   ]
  },
  {
   "cell_type": "markdown",
   "metadata": {},
   "source": [
    "В большинстве случаев мамы следят за детьми, нежели отцы. 31 пропуск будет заменен на моду."
   ]
  },
  {
   "cell_type": "code",
   "execution_count": 373,
   "metadata": {},
   "outputs": [],
   "source": [
    "student.guardian = student.guardian.fillna(student.guardian.mode()[0])"
   ]
  },
  {
   "cell_type": "markdown",
   "metadata": {},
   "source": [
    "#### Переменная \"Время в дороге до школы\" (traveltime)"
   ]
  },
  {
   "cell_type": "code",
   "execution_count": 374,
   "metadata": {},
   "outputs": [
    {
     "name": "stdout",
     "output_type": "stream",
     "text": [
      "Пропущенных значений: 28 \n",
      "Процент пропущенных данных: 7%\n",
      "Уникальные значения: [ 2.  1.  3. nan  4.] \n",
      "Количество уникальных значений: \n",
      "1.0    242\n",
      "2.0     96\n",
      "3.0     22\n",
      "4.0      7\n",
      "Name: traveltime, dtype: int64\n"
     ]
    },
    {
     "data": {
      "image/png": "[encoded data removed]",
      "text/plain": [
       "<Figure size 432x288 with 1 Axes>"
      ]
     },
     "metadata": {
      "needs_background": "light"
     },
     "output_type": "display_data"
    }
   ],
   "source": [
    "column_info(student.traveltime)"
   ]
  },
  {
   "cell_type": "markdown",
   "metadata": {},
   "source": [
    "Исходя из значений атрибута большинство студентов живут рядом с учебным заведением, а 28 человек живут за городом или в отдаленных от школы районах. Пропуски заменим на медиану."
   ]
  },
  {
   "cell_type": "code",
   "execution_count": 375,
   "metadata": {},
   "outputs": [],
   "source": [
    "student.traveltime = student.traveltime.fillna(student.traveltime.median())"
   ]
  },
  {
   "cell_type": "markdown",
   "metadata": {},
   "source": [
    "#### Переменная \"Время на учебу помимо школы\" (studytime)"
   ]
  },
  {
   "cell_type": "code",
   "execution_count": 376,
   "metadata": {
    "scrolled": true
   },
   "outputs": [
    {
     "name": "stdout",
     "output_type": "stream",
     "text": [
      "Пропущенных значений: 7 \n",
      "Процент пропущенных данных: 2%\n",
      "Уникальные значения: [ 2.  3.  1. nan  4.] \n",
      "Количество уникальных значений: \n",
      "2.0    194\n",
      "1.0    103\n",
      "3.0     64\n",
      "4.0     27\n",
      "Name: studytime, dtype: int64\n"
     ]
    },
    {
     "data": {
      "image/png": "[encoded data removed]",
      "text/plain": [
       "<Figure size 432x288 with 1 Axes>"
      ]
     },
     "metadata": {
      "needs_background": "light"
     },
     "output_type": "display_data"
    }
   ],
   "source": [
    "column_info(student.studytime)"
   ]
  },
  {
   "cell_type": "markdown",
   "metadata": {},
   "source": [
    "Большинство студентов тратит на учебу 2-2,5 часа. Пропущенные значения меняем на медиану."
   ]
  },
  {
   "cell_type": "code",
   "execution_count": 377,
   "metadata": {},
   "outputs": [],
   "source": [
    "student.studytime = student.studytime.fillna(student.studytime.median())"
   ]
  },
  {
   "cell_type": "markdown",
   "metadata": {},
   "source": [
    "#### Переменная \"Количество внеучебных неудач\" (failures)"
   ]
  },
  {
   "cell_type": "code",
   "execution_count": 378,
   "metadata": {},
   "outputs": [
    {
     "name": "stdout",
     "output_type": "stream",
     "text": [
      "Пропущенных значений: 22 \n",
      "Процент пропущенных данных: 6%\n",
      "Уникальные значения: [ 0.  3. nan  2.  1.] \n",
      "Количество уникальных значений: \n",
      "0.0    293\n",
      "1.0     49\n",
      "2.0     16\n",
      "3.0     15\n",
      "Name: failures, dtype: int64\n"
     ]
    },
    {
     "data": {
      "image/png": "[encoded data removed]",
      "text/plain": [
       "<Figure size 432x288 with 1 Axes>"
      ]
     },
     "metadata": {
      "needs_background": "light"
     },
     "output_type": "display_data"
    }
   ],
   "source": [
    "column_info(student.failures)"
   ]
  },
  {
   "cell_type": "markdown",
   "metadata": {},
   "source": [
    "Необходимо уточнить смысл значений атрибута, методику сбора данных, и его отношение к датасету. Пропущенные значения меняем на медиану."
   ]
  },
  {
   "cell_type": "code",
   "execution_count": 379,
   "metadata": {},
   "outputs": [],
   "source": [
    "student.failures = student.failures.fillna(student.failures.median())"
   ]
  },
  {
   "cell_type": "markdown",
   "metadata": {},
   "source": [
    "#### Переменная \"Школьная поддержка\" (schoolsup)"
   ]
  },
  {
   "cell_type": "code",
   "execution_count": 380,
   "metadata": {},
   "outputs": [
    {
     "name": "stdout",
     "output_type": "stream",
     "text": [
      "Пропущенных значений: 9 \n",
      "Процент пропущенных данных: 2%\n",
      "Уникальные значения: ['yes' 'no' nan] \n",
      "Количество уникальных значений: \n",
      "no     335\n",
      "yes     51\n",
      "Name: schoolsup, dtype: int64\n"
     ]
    },
    {
     "data": {
      "image/png": "[encoded data removed]",
      "text/plain": [
       "<Figure size 432x288 with 1 Axes>"
      ]
     },
     "metadata": {
      "needs_background": "light"
     },
     "output_type": "display_data"
    }
   ],
   "source": [
    "column_info(student.schoolsup)"
   ]
  },
  {
   "cell_type": "markdown",
   "metadata": {},
   "source": [
    "Большинство студентов не имеет дополнительной образовательной поддеркжи, пропуски в данных меняем на моду."
   ]
  },
  {
   "cell_type": "code",
   "execution_count": 381,
   "metadata": {},
   "outputs": [],
   "source": [
    "student.schoolsup = student.schoolsup.fillna(student.schoolsup.mode()[0])"
   ]
  },
  {
   "cell_type": "markdown",
   "metadata": {},
   "source": [
    "#### Переменная \"Семейная образовательная поддержка\" (famsup)"
   ]
  },
  {
   "cell_type": "code",
   "execution_count": 382,
   "metadata": {},
   "outputs": [
    {
     "name": "stdout",
     "output_type": "stream",
     "text": [
      "Пропущенных значений: 39 \n",
      "Процент пропущенных данных: 10%\n",
      "Уникальные значения: ['no' 'yes' nan] \n",
      "Количество уникальных значений: \n",
      "yes    219\n",
      "no     137\n",
      "Name: famsup, dtype: int64\n"
     ]
    },
    {
     "data": {
      "image/png": "[encoded data removed]",
      "text/plain": [
       "<Figure size 432x288 with 1 Axes>"
      ]
     },
     "metadata": {
      "needs_background": "light"
     },
     "output_type": "display_data"
    }
   ],
   "source": [
    "column_info(student.famsup)"
   ]
  },
  {
   "cell_type": "markdown",
   "metadata": {},
   "source": [
    "Семьи поддерживают большую часть учащихся, пропуски в данных заменяем на моду. Также переменные школьная и семейная поддеркжа похожи по смыслу, и будут объединены в одну переменную support"
   ]
  },
  {
   "cell_type": "code",
   "execution_count": 383,
   "metadata": {},
   "outputs": [],
   "source": [
    "student.famsup = student.famsup.fillna(student.famsup.mode()[0])\n",
    "student['support'] = np.where((student.schoolsup == 'yes') | (\n",
    "    student.famsup == 'yes'), 'yes', 'no')"
   ]
  },
  {
   "cell_type": "markdown",
   "metadata": {},
   "source": [
    "#### Переменная \"Доп. платные занятия по математике\" (paid)"
   ]
  },
  {
   "cell_type": "code",
   "execution_count": 384,
   "metadata": {},
   "outputs": [
    {
     "name": "stdout",
     "output_type": "stream",
     "text": [
      "Пропущенных значений: 40 \n",
      "Процент пропущенных данных: 10%\n",
      "Уникальные значения: ['no' nan 'yes'] \n",
      "Количество уникальных значений: \n",
      "no     200\n",
      "yes    155\n",
      "Name: paid, dtype: int64\n"
     ]
    },
    {
     "data": {
      "image/png": "[encoded data removed]",
      "text/plain": [
       "<Figure size 432x288 with 1 Axes>"
      ]
     },
     "metadata": {
      "needs_background": "light"
     },
     "output_type": "display_data"
    }
   ],
   "source": [
    "column_info(student.paid)"
   ]
  },
  {
   "cell_type": "markdown",
   "metadata": {},
   "source": [
    "Большая часть студентов не пользовалась доп. занятиями по математике. Пропущенные значения меняем на моду."
   ]
  },
  {
   "cell_type": "code",
   "execution_count": 385,
   "metadata": {},
   "outputs": [],
   "source": [
    "student.paid = student.paid.fillna(student.paid.mode()[0])"
   ]
  },
  {
   "cell_type": "markdown",
   "metadata": {},
   "source": [
    "#### Переменная \"Дополнительные внеучебные занятия\" (activities)"
   ]
  },
  {
   "cell_type": "code",
   "execution_count": 386,
   "metadata": {},
   "outputs": [
    {
     "name": "stdout",
     "output_type": "stream",
     "text": [
      "Пропущенных значений: 14 \n",
      "Процент пропущенных данных: 4%\n",
      "Уникальные значения: ['no' 'yes' nan] \n",
      "Количество уникальных значений: \n",
      "yes    195\n",
      "no     186\n",
      "Name: activities, dtype: int64\n"
     ]
    },
    {
     "data": {
      "image/png": "[encoded data removed]",
      "text/plain": [
       "<Figure size 432x288 with 1 Axes>"
      ]
     },
     "metadata": {
      "needs_background": "light"
     },
     "output_type": "display_data"
    }
   ],
   "source": [
    "column_info(student.activities)"
   ]
  },
  {
   "cell_type": "markdown",
   "metadata": {},
   "source": [
    "Практически одинаково распределились посещающие доп. занятия и студенты которым они не нужны. Пропуски в данных заменяем модой."
   ]
  },
  {
   "cell_type": "code",
   "execution_count": 387,
   "metadata": {},
   "outputs": [],
   "source": [
    "student.activities = student.paid.fillna(student.activities.mode()[0])"
   ]
  },
  {
   "cell_type": "markdown",
   "metadata": {},
   "source": [
    "#### Переменная \"Посещал детский сад\" (nursery)"
   ]
  },
  {
   "cell_type": "code",
   "execution_count": 388,
   "metadata": {},
   "outputs": [
    {
     "name": "stdout",
     "output_type": "stream",
     "text": [
      "Пропущенных значений: 16 \n",
      "Процент пропущенных данных: 4%\n",
      "Уникальные значения: ['yes' 'no' nan] \n",
      "Количество уникальных значений: \n",
      "yes    300\n",
      "no      79\n",
      "Name: nursery, dtype: int64\n"
     ]
    },
    {
     "data": {
      "image/png": "[encoded data removed]",
      "text/plain": [
       "<Figure size 432x288 with 1 Axes>"
      ]
     },
     "metadata": {
      "needs_background": "light"
     },
     "output_type": "display_data"
    }
   ],
   "source": [
    "column_info(student.nursery)"
   ]
  },
  {
   "cell_type": "markdown",
   "metadata": {},
   "source": [
    "79% студентов посещали детский сад, пропуски в данных заменяем модой"
   ]
  },
  {
   "cell_type": "code",
   "execution_count": 389,
   "metadata": {},
   "outputs": [],
   "source": [
    "student.nursery = student.paid.fillna(student.nursery.mode()[0])"
   ]
  },
  {
   "cell_type": "markdown",
   "metadata": {},
   "source": [
    "#### Переменная \"Studytime_granular\" (studytime_granular)"
   ]
  },
  {
   "cell_type": "code",
   "execution_count": 390,
   "metadata": {},
   "outputs": [
    {
     "name": "stdout",
     "output_type": "stream",
     "text": [
      "Пропущенных значений: 7 \n",
      "Процент пропущенных данных: 2%\n",
      "Уникальные значения: [ -6.  -9.  -3.  nan -12.] \n",
      "Количество уникальных значений: \n",
      "-6.0     194\n",
      "-3.0     103\n",
      "-9.0      64\n",
      "-12.0     27\n",
      "Name: studytime_granular, dtype: int64\n"
     ]
    },
    {
     "data": {
      "image/png": "[encoded data removed]",
      "text/plain": [
       "<Figure size 432x288 with 1 Axes>"
      ]
     },
     "metadata": {
      "needs_background": "light"
     },
     "output_type": "display_data"
    }
   ],
   "source": [
    "column_info(student.studytime_granular)"
   ]
  },
  {
   "cell_type": "markdown",
   "metadata": {},
   "source": [
    "Описание показателя отсутствует, числовые значения не позволяют их как либо истолковать в т.ч. относительно переменной studytime. Удаляю этот показатель из набора данных."
   ]
  },
  {
   "cell_type": "code",
   "execution_count": 391,
   "metadata": {},
   "outputs": [],
   "source": [
    "student = student.drop(columns='studytime_granular')"
   ]
  },
  {
   "cell_type": "markdown",
   "metadata": {},
   "source": [
    "#### Переменная \"Хочет получить высшее образование\" (higher)"
   ]
  },
  {
   "cell_type": "code",
   "execution_count": 392,
   "metadata": {},
   "outputs": [
    {
     "name": "stdout",
     "output_type": "stream",
     "text": [
      "Пропущенных значений: 20 \n",
      "Процент пропущенных данных: 5%\n",
      "Уникальные значения: ['yes' nan 'no'] \n",
      "Количество уникальных значений: \n",
      "yes    356\n",
      "no      19\n",
      "Name: higher, dtype: int64\n"
     ]
    },
    {
     "data": {
      "image/png": "[encoded data removed]",
      "text/plain": [
       "<Figure size 432x288 with 1 Axes>"
      ]
     },
     "metadata": {
      "needs_background": "light"
     },
     "output_type": "display_data"
    }
   ],
   "source": [
    "column_info(student.higher)"
   ]
  },
  {
   "cell_type": "markdown",
   "metadata": {},
   "source": [
    "Подавляющее большинство хочет получить высшее образование, пропуски меняем на моду."
   ]
  },
  {
   "cell_type": "code",
   "execution_count": 393,
   "metadata": {},
   "outputs": [],
   "source": [
    "student.higher = student.higher.fillna(student.higher.mode()[0])"
   ]
  },
  {
   "cell_type": "markdown",
   "metadata": {},
   "source": [
    "#### Переменная \"Наличие интернета дома (internet)\""
   ]
  },
  {
   "cell_type": "code",
   "execution_count": 394,
   "metadata": {},
   "outputs": [
    {
     "name": "stdout",
     "output_type": "stream",
     "text": [
      "Пропущенных значений: 34 \n",
      "Процент пропущенных данных: 9%\n",
      "Уникальные значения: [nan 'yes' 'no'] \n",
      "Количество уникальных значений: \n",
      "yes    305\n",
      "no      56\n",
      "Name: internet, dtype: int64\n"
     ]
    },
    {
     "data": {
      "image/png": "[encoded data removed]",
      "text/plain": [
       "<Figure size 432x288 with 1 Axes>"
      ]
     },
     "metadata": {
      "needs_background": "light"
     },
     "output_type": "display_data"
    }
   ],
   "source": [
    "column_info(student.internet)"
   ]
  },
  {
   "cell_type": "markdown",
   "metadata": {},
   "source": [
    "У почти 80% учащихся есть интернет, пропуски в данных меняем на моду"
   ]
  },
  {
   "cell_type": "code",
   "execution_count": 395,
   "metadata": {},
   "outputs": [],
   "source": [
    "student.internet = student.internet.fillna(student.internet.mode()[0])"
   ]
  },
  {
   "cell_type": "markdown",
   "metadata": {},
   "source": [
    "####  Переменная \"В романтических отношениях  (romantic)\""
   ]
  },
  {
   "cell_type": "code",
   "execution_count": 396,
   "metadata": {},
   "outputs": [
    {
     "name": "stdout",
     "output_type": "stream",
     "text": [
      "Пропущенных значений: 31 \n",
      "Процент пропущенных данных: 8%\n",
      "Уникальные значения: ['no' nan 'yes'] \n",
      "Количество уникальных значений: \n",
      "no     240\n",
      "yes    124\n",
      "Name: romantic, dtype: int64\n"
     ]
    },
    {
     "data": {
      "image/png": "[encoded data removed]",
      "text/plain": [
       "<Figure size 432x288 with 1 Axes>"
      ]
     },
     "metadata": {
      "needs_background": "light"
     },
     "output_type": "display_data"
    }
   ],
   "source": [
    "column_info(student.romantic)"
   ]
  },
  {
   "cell_type": "markdown",
   "metadata": {},
   "source": [
    "Большинство студентов не состоит в романтических отношениях, пропуски в данных меняем на моду"
   ]
  },
  {
   "cell_type": "code",
   "execution_count": 397,
   "metadata": {},
   "outputs": [],
   "source": [
    "student.romantic = student.romantic.fillna(student.romantic.mode()[0])"
   ]
  },
  {
   "cell_type": "markdown",
   "metadata": {},
   "source": [
    "#### Переменная \"Уровень семейных отношений (famrel)\""
   ]
  },
  {
   "cell_type": "code",
   "execution_count": 398,
   "metadata": {},
   "outputs": [
    {
     "name": "stdout",
     "output_type": "stream",
     "text": [
      "Пропущенных значений: 27 \n",
      "Процент пропущенных данных: 7%\n",
      "Уникальные значения: [ 4.  5.  3. nan -1.  2.  1.] \n",
      "Количество уникальных значений: \n",
      " 4.0    182\n",
      " 5.0     99\n",
      " 3.0     62\n",
      " 2.0     17\n",
      " 1.0      7\n",
      "-1.0      1\n",
      "Name: famrel, dtype: int64\n"
     ]
    },
    {
     "data": {
      "image/png": "[encoded data removed]",
      "text/plain": [
       "<Figure size 432x288 with 1 Axes>"
      ]
     },
     "metadata": {
      "needs_background": "light"
     },
     "output_type": "display_data"
    }
   ],
   "source": [
    "column_info(student.famrel)"
   ]
  },
  {
   "cell_type": "markdown",
   "metadata": {},
   "source": [
    "У большинства студентов высокий и отличный уровень семейных отношений, примерно у 6% плохие и очень плохие отношения. Возможно один из учащихся хотел показать, что отношения хуже некуда и поставил -1, при возможных вариантах от 1 до 5. Значение -1 меняем на 1, пропуски в данных меняем на медиану."
   ]
  },
  {
   "cell_type": "code",
   "execution_count": 399,
   "metadata": {},
   "outputs": [],
   "source": [
    "student.famrel = student.famrel.replace({-1:1})\n",
    "student.famrel = student.famrel.fillna(student.famrel.median())"
   ]
  },
  {
   "cell_type": "markdown",
   "metadata": {},
   "source": [
    "#### Переменная \"Свободное время после школы (freetime)\""
   ]
  },
  {
   "cell_type": "code",
   "execution_count": 400,
   "metadata": {},
   "outputs": [
    {
     "name": "stdout",
     "output_type": "stream",
     "text": [
      "Пропущенных значений: 11 \n",
      "Процент пропущенных данных: 3%\n",
      "Уникальные значения: [ 3.  2.  4.  1.  5. nan] \n",
      "Количество уникальных значений: \n",
      "3.0    153\n",
      "4.0    112\n",
      "2.0     63\n",
      "5.0     38\n",
      "1.0     18\n",
      "Name: freetime, dtype: int64\n"
     ]
    },
    {
     "data": {
      "image/png": "[encoded data removed]",
      "text/plain": [
       "<Figure size 432x288 with 1 Axes>"
      ]
     },
     "metadata": {
      "needs_background": "light"
     },
     "output_type": "display_data"
    }
   ],
   "source": [
    "column_info(student.freetime)"
   ]
  },
  {
   "cell_type": "markdown",
   "metadata": {},
   "source": [
    "Большинство студентов имеют свободное время для отдыха от учёбы. Пропуски в данных меняем на медиану."
   ]
  },
  {
   "cell_type": "code",
   "execution_count": 401,
   "metadata": {},
   "outputs": [],
   "source": [
    "student.freetime = student.freetime.fillna(student.freetime.median())"
   ]
  },
  {
   "cell_type": "markdown",
   "metadata": {},
   "source": [
    "#### Переменная \"Проведение времени с друзьями\" (goout)"
   ]
  },
  {
   "cell_type": "code",
   "execution_count": 402,
   "metadata": {},
   "outputs": [
    {
     "name": "stdout",
     "output_type": "stream",
     "text": [
      "Пропущенных значений: 8 \n",
      "Процент пропущенных данных: 2%\n",
      "Уникальные значения: [ 4.  3.  2.  1.  5. nan] \n",
      "Количество уникальных значений: \n",
      "3.0    127\n",
      "2.0    101\n",
      "4.0     84\n",
      "5.0     52\n",
      "1.0     23\n",
      "Name: goout, dtype: int64\n"
     ]
    },
    {
     "data": {
      "image/png": "[encoded data removed]",
      "text/plain": [
       "<Figure size 432x288 with 1 Axes>"
      ]
     },
     "metadata": {
      "needs_background": "light"
     },
     "output_type": "display_data"
    }
   ],
   "source": [
    "column_info(student.goout)"
   ]
  },
  {
   "cell_type": "markdown",
   "metadata": {},
   "source": [
    "Значения атрибута распределены практически равномерно, у студентов есть время для общения с друзьями. Пропуски меняем на медиану."
   ]
  },
  {
   "cell_type": "code",
   "execution_count": 403,
   "metadata": {},
   "outputs": [],
   "source": [
    "student.goout = student.goout.fillna(student.goout.median())"
   ]
  },
  {
   "cell_type": "markdown",
   "metadata": {},
   "source": [
    "#### Переменная \"Текущее состояние здоровья\" (health)"
   ]
  },
  {
   "cell_type": "code",
   "execution_count": 404,
   "metadata": {},
   "outputs": [
    {
     "name": "stdout",
     "output_type": "stream",
     "text": [
      "Пропущенных значений: 15 \n",
      "Процент пропущенных данных: 4%\n",
      "Уникальные значения: [ 3.  5.  1.  2.  4. nan] \n",
      "Количество уникальных значений: \n",
      "5.0    138\n",
      "3.0     89\n",
      "4.0     63\n",
      "1.0     47\n",
      "2.0     43\n",
      "Name: health, dtype: int64\n"
     ]
    },
    {
     "data": {
      "image/png": "[encoded data removed]",
      "text/plain": [
       "<Figure size 432x288 with 1 Axes>"
      ]
     },
     "metadata": {
      "needs_background": "light"
     },
     "output_type": "display_data"
    }
   ],
   "source": [
    "column_info(student.health)"
   ]
  },
  {
   "cell_type": "markdown",
   "metadata": {},
   "source": [
    "Половина студентов оценивает своё состояние здоровья как удовлетворительное, пропуски в данных меняем на медиану."
   ]
  },
  {
   "cell_type": "code",
   "execution_count": 405,
   "metadata": {},
   "outputs": [],
   "source": [
    "student.health = student.health.fillna(student.health.median())"
   ]
  },
  {
   "cell_type": "markdown",
   "metadata": {},
   "source": [
    "#### Переменная \"Количество пропущенных занятий (absences)\""
   ]
  },
  {
   "cell_type": "code",
   "execution_count": 406,
   "metadata": {},
   "outputs": [
    {
     "name": "stdout",
     "output_type": "stream",
     "text": [
      "Пропущенных значений: 12 \n",
      "Процент пропущенных данных: 3%\n",
      "Уникальные значения: [  6.   4.  10.   2.   0.  16.  nan  14.   7.   8.  25.  12.  54.  18.\n",
      "  26.  20.  56.  24.  28.   5.  13.  15.  22.   3. 385.  21.   1.  75.\n",
      "  30.  19.   9.  11.  38.  40.  23.  17. 212.] \n",
      "Количество уникальных значений: \n",
      "0.0      111\n",
      "2.0       60\n",
      "4.0       53\n",
      "6.0       31\n",
      "8.0       21\n",
      "10.0      17\n",
      "12.0      12\n",
      "14.0      12\n",
      "3.0        8\n",
      "16.0       7\n",
      "7.0        6\n",
      "5.0        5\n",
      "18.0       5\n",
      "20.0       4\n",
      "22.0       3\n",
      "9.0        3\n",
      "1.0        3\n",
      "15.0       2\n",
      "13.0       2\n",
      "11.0       2\n",
      "25.0       1\n",
      "54.0       1\n",
      "385.0      1\n",
      "26.0       1\n",
      "56.0       1\n",
      "24.0       1\n",
      "212.0      1\n",
      "21.0       1\n",
      "75.0       1\n",
      "30.0       1\n",
      "19.0       1\n",
      "38.0       1\n",
      "40.0       1\n",
      "23.0       1\n",
      "17.0       1\n",
      "28.0       1\n",
      "Name: absences, dtype: int64\n"
     ]
    },
    {
     "data": {
      "image/png": "[encoded data removed]",
      "text/plain": [
       "<Figure size 432x288 with 1 Axes>"
      ]
     },
     "metadata": {
      "needs_background": "light"
     },
     "output_type": "display_data"
    }
   ],
   "source": [
    "column_info(student.absences)"
   ]
  },
  {
   "cell_type": "markdown",
   "metadata": {},
   "source": [
    "В значениях атрибута содержатся выбросы, со смещением вправо, есть пропущенные значения.  Определим границы выбросов по межквартильному расстоянию. "
   ]
  },
  {
   "cell_type": "code",
   "execution_count": 407,
   "metadata": {},
   "outputs": [
    {
     "name": "stdout",
     "output_type": "stream",
     "text": [
      "Границы выбросов: -12.0 20.0\n"
     ]
    }
   ],
   "source": [
    "IQR = student.absences.quantile(0.75) - student.absences.quantile(0.25)\n",
    "perc25 = student.absences.quantile(0.25)\n",
    "perc75 = student.absences.quantile(0.75)\n",
    "print(\"Границы выбросов:\", perc25 - 1.5 * IQR, perc75 + 1.5 * IQR)"
   ]
  },
  {
   "cell_type": "markdown",
   "metadata": {},
   "source": [
    "постоим график для просмотра данных за границами выбросов, например до 100."
   ]
  },
  {
   "cell_type": "code",
   "execution_count": 408,
   "metadata": {},
   "outputs": [
    {
     "data": {
      "image/png": "[encoded data removed]",
      "text/plain": [
       "<Figure size 432x288 with 1 Axes>"
      ]
     },
     "metadata": {
      "needs_background": "light"
     },
     "output_type": "display_data"
    },
    {
     "data": {
      "text/plain": [
       "21.0     1\n",
       "22.0     3\n",
       "23.0     1\n",
       "24.0     1\n",
       "25.0     1\n",
       "26.0     1\n",
       "28.0     1\n",
       "30.0     1\n",
       "38.0     1\n",
       "40.0     1\n",
       "54.0     1\n",
       "56.0     1\n",
       "75.0     1\n",
       "212.0    1\n",
       "385.0    1\n",
       "Name: absences, dtype: int64"
      ]
     },
     "metadata": {},
     "output_type": "display_data"
    }
   ],
   "source": [
    "ax = student.absences.hist(bins=10)\n",
    "ax.set_xlim(20, 100)\n",
    "plt.show()\n",
    "display(student.absences[student.absences > 20].value_counts(\n",
    "    ascending=True).sort_index(ascending=True))"
   ]
  },
  {
   "cell_type": "markdown",
   "metadata": {},
   "source": [
    "Набор данных небольшой (390 строк) и данные пропущенных занятиях часто встречаются до 30, предлагаю их оставить как есть. Значения после 30 и пропуски в данных заменим на медиану."
   ]
  },
  {
   "cell_type": "code",
   "execution_count": 409,
   "metadata": {},
   "outputs": [],
   "source": [
    "student.absences = student.absences.apply(\n",
    "    lambda x: student.absences.median() if x > 30 else x)\n",
    "student.absences = student.absences.fillna(student.absences.median())"
   ]
  },
  {
   "cell_type": "markdown",
   "metadata": {},
   "source": [
    "#### Целевая переменная \"Баллы по госэкзамену по математике\" (score)"
   ]
  },
  {
   "cell_type": "code",
   "execution_count": 410,
   "metadata": {},
   "outputs": [
    {
     "name": "stdout",
     "output_type": "stream",
     "text": [
      "Пропущенных значений: 6 \n",
      "Процент пропущенных данных: 2%\n",
      "Уникальные значения: [ 30.  50.  75.  55.  95.  45.  60.  70.  80.  25.  40.  85.  90.  65.\n",
      " 100.  35.   0.  nan  20.] \n",
      "Количество уникальных значений: \n",
      "50.0     54\n",
      "55.0     46\n",
      "0.0      37\n",
      "75.0     33\n",
      "65.0     31\n",
      "40.0     31\n",
      "60.0     31\n",
      "70.0     27\n",
      "45.0     27\n",
      "80.0     16\n",
      "30.0     15\n",
      "90.0     12\n",
      "35.0      9\n",
      "25.0      7\n",
      "85.0      6\n",
      "95.0      5\n",
      "100.0     1\n",
      "20.0      1\n",
      "Name: score, dtype: int64\n"
     ]
    },
    {
     "data": {
      "image/png": "[encoded data removed]",
      "text/plain": [
       "<Figure size 432x288 with 1 Axes>"
      ]
     },
     "metadata": {
      "needs_background": "light"
     },
     "output_type": "display_data"
    }
   ],
   "source": [
    "column_info(student.score)"
   ]
  },
  {
   "cell_type": "code",
   "execution_count": 411,
   "metadata": {},
   "outputs": [
    {
     "name": "stdout",
     "output_type": "stream",
     "text": [
      "Границы выбросов: -5.0 115.0\n"
     ]
    }
   ],
   "source": [
    "IQR = student.score.quantile(0.75) - student.score.quantile(0.25)\n",
    "perc25 = student.score.quantile(0.25)\n",
    "perc75 = student.score.quantile(0.75)\n",
    "print(\"Границы выбросов:\", perc25 - 1.5 * IQR, perc75 + 1.5 * IQR)"
   ]
  },
  {
   "cell_type": "markdown",
   "metadata": {},
   "source": [
    "Для оценки результатов студентов используется 100 бальная система. Выбросы в данных не нашел, 37 студентов получили 0 баллов, вероятно из-за методки оценки работ. В целевой переменной score есть пропущенные значения Nan, которые удаляем из данных. "
   ]
  },
  {
   "cell_type": "code",
   "execution_count": 412,
   "metadata": {},
   "outputs": [],
   "source": [
    "student.dropna(subset=['score'], inplace = True)"
   ]
  },
  {
   "cell_type": "markdown",
   "metadata": {},
   "source": [
    "#### Корреляционный анализ числовых переменных"
   ]
  },
  {
   "cell_type": "code",
   "execution_count": 413,
   "metadata": {},
   "outputs": [
    {
     "data": {
      "text/plain": [
       "failures     -0.34\n",
       "age          -0.16\n",
       "goout        -0.13\n",
       "health       -0.07\n",
       "traveltime   -0.06\n",
       "freetime      0.02\n",
       "famrel        0.05\n",
       "absences      0.07\n",
       "studytime     0.11\n",
       "fedu          0.12\n",
       "medu          0.21\n",
       "score         1.00\n",
       "Name: score, dtype: float64"
      ]
     },
     "execution_count": 413,
     "metadata": {},
     "output_type": "execute_result"
    }
   ],
   "source": [
    "# отберем для числовые переменные и посмотрим на их корреляцию ц целевой переменной score\n",
    "student_n = pd.DataFrame()\n",
    "student_n = student.select_dtypes([\"int64\", \"float64\"])\n",
    "round(student_n.corr().score.sort_values(), 2)"
   ]
  },
  {
   "cell_type": "markdown",
   "metadata": {},
   "source": [
    "Выводы по корреляции целевой переменной score с числовыми переменными:\n",
    "    - есть обратная корреляция между целевой переменной score и переменной количество внеучебных неудач failures - чем меньше внеучебных неудач тем выше оценки\n",
    "    - отрицательная корреляция переменной age и целевой переменой показывает что младшие студенты имеют более хорошие оценки чем старшие\n",
    "    - есть слабая корреляция между образованием матери и целевой переменной score, возможно из-за того что матери в большинстве были опекунами (guardian) у студентов, чем отцы, это повлияло на результат\n",
    "    - переменная время на учебу вне школы слабо коррелируют с целевой переменной, что странно и говорит об ограниченности выборки\n",
    "    - из-за отсутствия положительной или отрицательной корреляции (менее +-0,1) переменные: health,  traveltime, freetime, famrel, absences будут удалены"
   ]
  },
  {
   "cell_type": "code",
   "execution_count": 414,
   "metadata": {},
   "outputs": [
    {
     "data": {
      "text/plain": [
       "<AxesSubplot:>"
      ]
     },
     "execution_count": 414,
     "metadata": {},
     "output_type": "execute_result"
    },
    {
     "data": {
      "image/png": "[encoded data removed]",
      "text/plain": [
       "<Figure size 720x720 with 2 Axes>"
      ]
     },
     "metadata": {
      "needs_background": "light"
     },
     "output_type": "display_data"
    }
   ],
   "source": [
    "# построим тепловую карту с корреляцией остальных переменных\n",
    "fig = plt.figure(figsize=(10,10))\n",
    "sns.heatmap(student_n.corr(), annot=True, cmap='RdBu')"
   ]
  },
  {
   "cell_type": "markdown",
   "metadata": {},
   "source": [
    "Выводы по тепловой карте:\n",
    "    - слабая корреляция между переменными age и failures говорит о том что с увеличением возраста внеучебных неудач становится меньше\n",
    "    - переменные medu и fedu (образование мамы и папы) сильно коррелируют между собой т.к. пары выбирают похожих на себя в т.ч. по уровню образования\n",
    "    - слабая отрицательная корреляция medu, fedu (образование мамы и папы) и внеучебные неудачи детей (failures) говорит о том что у детей с более образованными родителями меньше внеучебных неудач\n",
    "    - выглядит логичной корреляция между переменной freetime и goout\n",
    "    - есть слабая корреляция между количеством пропущенных занятий, возрастом студентов и временем с друзьями - старшие студенты прогуливают чаще чем младшие и возможно проводят это время с друзьями    "
   ]
  },
  {
   "cell_type": "markdown",
   "metadata": {},
   "source": [
    "#### Анализ номинативных переменных"
   ]
  },
  {
   "cell_type": "code",
   "execution_count": 415,
   "metadata": {
    "scrolled": false
   },
   "outputs": [
    {
     "data": {
      "image/png": "[encoded data removed]",
      "text/plain": [
       "<Figure size 720x288 with 1 Axes>"
      ]
     },
     "metadata": {
      "needs_background": "light"
     },
     "output_type": "display_data"
    },
    {
     "name": "stdout",
     "output_type": "stream",
     "text": [
      "Статистические различия для переменных school и score не найдены \n"
     ]
    },
    {
     "data": {
      "image/png": "[encoded data removed]",
      "text/plain": [
       "<Figure size 720x288 with 1 Axes>"
      ]
     },
     "metadata": {
      "needs_background": "light"
     },
     "output_type": "display_data"
    },
    {
     "name": "stdout",
     "output_type": "stream",
     "text": [
      "Статистические различия для переменных sex и score не найдены \n"
     ]
    },
    {
     "data": {
      "image/png": "[encoded data removed]",
      "text/plain": [
       "<Figure size 720x288 with 1 Axes>"
      ]
     },
     "metadata": {
      "needs_background": "light"
     },
     "output_type": "display_data"
    },
    {
     "name": "stdout",
     "output_type": "stream",
     "text": [
      "Внимание! Найдены статистически значимые различия для переменных address и score\n"
     ]
    },
    {
     "data": {
      "image/png": "[encoded data removed]",
      "text/plain": [
       "<Figure size 720x288 with 1 Axes>"
      ]
     },
     "metadata": {
      "needs_background": "light"
     },
     "output_type": "display_data"
    },
    {
     "name": "stdout",
     "output_type": "stream",
     "text": [
      "Статистические различия для переменных famsize и score не найдены \n"
     ]
    },
    {
     "data": {
      "image/png": "[encoded data removed]",
      "text/plain": [
       "<Figure size 720x288 with 1 Axes>"
      ]
     },
     "metadata": {
      "needs_background": "light"
     },
     "output_type": "display_data"
    },
    {
     "name": "stdout",
     "output_type": "stream",
     "text": [
      "Статистические различия для переменных pstatus и score не найдены \n"
     ]
    },
    {
     "data": {
      "image/png": "[encoded data removed]",
      "text/plain": [
       "<Figure size 720x288 with 1 Axes>"
      ]
     },
     "metadata": {
      "needs_background": "light"
     },
     "output_type": "display_data"
    },
    {
     "name": "stdout",
     "output_type": "stream",
     "text": [
      "Внимание! Найдены статистически значимые различия для переменных mjob и score\n"
     ]
    },
    {
     "data": {
      "image/png": "[encoded data removed]",
      "text/plain": [
       "<Figure size 720x288 with 1 Axes>"
      ]
     },
     "metadata": {
      "needs_background": "light"
     },
     "output_type": "display_data"
    },
    {
     "name": "stdout",
     "output_type": "stream",
     "text": [
      "Статистические различия для переменных fjob и score не найдены \n"
     ]
    },
    {
     "data": {
      "image/png": "[encoded data removed]",
      "text/plain": [
       "<Figure size 720x288 with 1 Axes>"
      ]
     },
     "metadata": {
      "needs_background": "light"
     },
     "output_type": "display_data"
    },
    {
     "name": "stdout",
     "output_type": "stream",
     "text": [
      "Статистические различия для переменных reason и score не найдены \n"
     ]
    },
    {
     "data": {
      "image/png": "[encoded data removed]",
      "text/plain": [
       "<Figure size 720x288 with 1 Axes>"
      ]
     },
     "metadata": {
      "needs_background": "light"
     },
     "output_type": "display_data"
    },
    {
     "name": "stdout",
     "output_type": "stream",
     "text": [
      "Статистические различия для переменных guardian и score не найдены \n"
     ]
    },
    {
     "data": {
      "image/png": "[encoded data removed]",
      "text/plain": [
       "<Figure size 720x288 with 1 Axes>"
      ]
     },
     "metadata": {
      "needs_background": "light"
     },
     "output_type": "display_data"
    },
    {
     "name": "stdout",
     "output_type": "stream",
     "text": [
      "Статистические различия для переменных support и score не найдены \n"
     ]
    },
    {
     "data": {
      "image/png": "[encoded data removed]",
      "text/plain": [
       "<Figure size 720x288 with 1 Axes>"
      ]
     },
     "metadata": {
      "needs_background": "light"
     },
     "output_type": "display_data"
    },
    {
     "name": "stdout",
     "output_type": "stream",
     "text": [
      "Статистические различия для переменных paid и score не найдены \n"
     ]
    },
    {
     "data": {
      "image/png": "[encoded data removed]",
      "text/plain": [
       "<Figure size 720x288 with 1 Axes>"
      ]
     },
     "metadata": {
      "needs_background": "light"
     },
     "output_type": "display_data"
    },
    {
     "name": "stdout",
     "output_type": "stream",
     "text": [
      "Статистические различия для переменных activities и score не найдены \n"
     ]
    },
    {
     "data": {
      "image/png": "[encoded data removed]",
      "text/plain": [
       "<Figure size 720x288 with 1 Axes>"
      ]
     },
     "metadata": {
      "needs_background": "light"
     },
     "output_type": "display_data"
    },
    {
     "name": "stdout",
     "output_type": "stream",
     "text": [
      "Статистические различия для переменных nursery и score не найдены \n"
     ]
    },
    {
     "data": {
      "image/png": "[encoded data removed]",
      "text/plain": [
       "<Figure size 720x288 with 1 Axes>"
      ]
     },
     "metadata": {
      "needs_background": "light"
     },
     "output_type": "display_data"
    },
    {
     "name": "stdout",
     "output_type": "stream",
     "text": [
      "Внимание! Найдены статистически значимые различия для переменных higher и score\n"
     ]
    },
    {
     "data": {
      "image/png": "[encoded data removed]",
      "text/plain": [
       "<Figure size 720x288 with 1 Axes>"
      ]
     },
     "metadata": {
      "needs_background": "light"
     },
     "output_type": "display_data"
    },
    {
     "name": "stdout",
     "output_type": "stream",
     "text": [
      "Статистические различия для переменных internet и score не найдены \n"
     ]
    },
    {
     "data": {
      "image/png": "[encoded data removed]",
      "text/plain": [
       "<Figure size 720x288 with 1 Axes>"
      ]
     },
     "metadata": {
      "needs_background": "light"
     },
     "output_type": "display_data"
    },
    {
     "name": "stdout",
     "output_type": "stream",
     "text": [
      "Внимание! Найдены статистически значимые различия для переменных romantic и score\n"
     ]
    }
   ],
   "source": [
    "# скопируем датафрейм для работы\n",
    "student_nom = student.copy()\n",
    "# запустим функции построения boxplot и поиска статистических различий в распределении оценок с помощью теста Стьюдента\n",
    "for column in ['school', 'sex', 'address', 'famsize', 'pstatus', 'mjob', 'fjob', 'reason', 'guardian', 'support', 'paid',\n",
    "               'activities', 'nursery', 'higher', 'internet', 'romantic']:\n",
    "    get_boxplot(student_nom, column, 'score')\n",
    "    get_stat_dif(student_nom, column, 'score')"
   ]
  },
  {
   "cell_type": "markdown",
   "metadata": {},
   "source": [
    "#### Выводы : статистически значимые различия найдены для целевой переменной score и переменных: address, mjob, higher, romantic, остальные переменные, для которых статистические различия не найдены будут удалены"
   ]
  },
  {
   "cell_type": "code",
   "execution_count": 416,
   "metadata": {},
   "outputs": [],
   "source": [
    "# удаляем количественные переменные\n",
    "student = student.drop(\n",
    "    ['health',  'traveltime', 'freetime', 'famrel', 'absences'], axis=1)\n",
    "\n",
    "# удаляем номинативные переменные\n",
    "student = student.drop(['school', 'sex', 'famsize', 'pstatus', 'fjob', 'reason',\n",
    "                        'guardian', 'support', 'schoolsup', 'famsup', 'paid',\n",
    "                        'activities', 'nursery', 'internet'], axis=1)"
   ]
  },
  {
   "cell_type": "code",
   "execution_count": 417,
   "metadata": {},
   "outputs": [
    {
     "name": "stdout",
     "output_type": "stream",
     "text": [
      "<class 'pandas.core.frame.DataFrame'>\n",
      "Int64Index: 389 entries, 0 to 394\n",
      "Data columns (total 11 columns):\n",
      " #   Column     Non-Null Count  Dtype  \n",
      "---  ------     --------------  -----  \n",
      " 0   age        389 non-null    int64  \n",
      " 1   address    389 non-null    object \n",
      " 2   medu       389 non-null    float64\n",
      " 3   fedu       389 non-null    float64\n",
      " 4   mjob       389 non-null    object \n",
      " 5   studytime  389 non-null    float64\n",
      " 6   failures   389 non-null    float64\n",
      " 7   higher     389 non-null    object \n",
      " 8   romantic   389 non-null    object \n",
      " 9   goout      389 non-null    float64\n",
      " 10  score      389 non-null    float64\n",
      "dtypes: float64(6), int64(1), object(4)\n",
      "memory usage: 36.5+ KB\n"
     ]
    }
   ],
   "source": [
    "# датасет после удаления столбцов\n",
    "student.info()"
   ]
  },
  {
   "cell_type": "markdown",
   "metadata": {},
   "source": [
    "#### Итоги разведывательного анализа данных"
   ]
  },
  {
   "cell_type": "markdown",
   "metadata": {},
   "source": [
    "1. Загружены библиотеки для анализа, проведена загрузка датасета c данными о студентах из файла, переименованы столбцы и проведен осмотр набора данных, заданы функции для дальнейшей обработки данных. \n",
    "    Набор содержит данные о 396 студентах и состоит из 30 переменных. Переменные school, age, sex не содержат пропусков, остальные 27, включая целевую переменную score содержат Nan.\n",
    "\n",
    "2. Проведен осмотр переменных на пропуски в данных, выбросы в данных, подготовлены комментарии. По итогам анализа пропуски, выбросы в данных были заменены на медиану/моду. Переменная семейная, школьная поддержка была объединена в переменную поддержка т.к. эти переменные близки по смыслу.\n",
    "\n",
    "3. Проведен корреляционный анализ целевой переменной \"Баллы за гос. экзамен по математике\" (score) с числовыми переменными. Выводы:\n",
    "    - есть обратная корреляция между целевой переменной score и переменной количество внеучебных неудач failures - чем меньше внеучебных неудач тем выше оценки\n",
    "    - отрицательная корреляция переменной age и целевой переменой показывает что младшие студенты имеют более хорошие оценки чем старшие\n",
    "    - есть слабая корреляция между образованием матери и целевой переменной score, возможно из-за того что матери в большинстве были опекунами (guardian) у студентов, чем отцы, это повлияло на результат\n",
    "    - переменная время на учебу вне школы слабо коррелируют с целевой переменной, что странно и говорит об ограниченности выборки\n",
    "    - из-за отсутствия положительной или отрицательной корреляции (коэффициент менее +-0,1) переменные: health,  traveltime, freetime, famrel, absences удалены\n",
    "\n",
    "4. Проведен анализ номинативных переменных на наличие статистической разницы в распределении оценок с помощью теста Стьюдента. Статистически значимые различия найдены для целевой переменной score и переменных: address, mjob, higher, romantic. Для переменных school, sex, famsize, pstatus, fjob, reason, guardian, support, famsup, paid, activities, nursery, internet статистические различия не найдены и они удалены и датасета.\n",
    "\n",
    "5. По итогам выполненных в 1-4 работ датасет очищен от пропусков, переменных не влияющих на целевую переменную score и подготовлен для дальнейшего моделирования."
   ]
  }
 ],
 "metadata": {
  "kernelspec": {
   "display_name": "Python 3",
   "language": "python",
   "name": "python3"
  },
  "language_info": {
   "codemirror_mode": {
    "name": "ipython",
    "version": 3
   },
   "file_extension": ".py",
   "mimetype": "text/x-python",
   "name": "python",
   "nbconvert_exporter": "python",
   "pygments_lexer": "ipython3",
   "version": "3.8.5"
  }
 },
 "nbformat": 4,
 "nbformat_minor": 4
}
